{
 "cells": [
  {
   "cell_type": "markdown",
   "metadata": {},
   "source": [
    "# MSWT Anwendung in der Finanzbranche \n",
    "In diesem Notebook wird die Anwendung des selben Prinzips/Logik wie in der Filmbranche demonstriert"
   ]
  },
  {
   "cell_type": "markdown",
   "metadata": {},
   "source": [
    "## Neo4j Verbindung erstellen"
   ]
  },
  {
   "cell_type": "code",
   "execution_count": null,
   "metadata": {},
   "outputs": [],
   "source": [
    "from neo4j import GraphDatabase\n",
    "uri = \"bolt://localhost:7687\"  \n",
    "user = \"neo4j\"  \n",
    "password = \"\" \n",
    "\n",
    "driver = GraphDatabase.driver(uri, auth=(user, password))"
   ]
  },
  {
   "cell_type": "markdown",
   "metadata": {},
   "source": [
    "## Daten Erstellen "
   ]
  },
  {
   "cell_type": "code",
   "execution_count": null,
   "metadata": {},
   "outputs": [],
   "source": [
    "from neo4j import GraphDatabase\n",
    "\n",
    "class FinancialGraph:\n",
    "    def __init__(self, uri, user, password):\n",
    "        self.driver = GraphDatabase.driver(uri, auth=(user, password))\n",
    "\n",
    "    def close(self):\n",
    "        self.driver.close()\n",
    "\n",
    "    def setup_graph(self):\n",
    "        with self.driver.session() as session:\n",
    "            # Create accounts\n",
    "            session.run(\"CREATE (:Account {id: 'acc1', name: 'Account 1'})\")\n",
    "            session.run(\"CREATE (:Account {id: 'acc2', name: 'Account 2'})\")\n",
    "            session.run(\"CREATE (:Account {id: 'acc3', name: 'Account 3'})\")\n",
    "            session.run(\"CREATE (:Account {id: 'acc4', name: 'Account 4'})\")\n",
    "\n",
    "            # Create transactions\n",
    "            session.run(\"\"\"\n",
    "            MATCH (a1:Account {id: 'acc1'}), (a2:Account {id: 'acc2'})\n",
    "            CREATE (a1)-[:TRANSACTION {amount: 1000}]->(a2)\n",
    "            \"\"\")\n",
    "            session.run(\"\"\"\n",
    "            MATCH (a1:Account {id: 'acc2'}), (a2:Account {id: 'acc3'})\n",
    "            CREATE (a1)-[:TRANSACTION {amount: 500}]->(a2)\n",
    "            \"\"\")\n",
    "            session.run(\"\"\"\n",
    "            MATCH (a1:Account {id: 'acc3'}), (a2:Account {id: 'acc4'})\n",
    "            CREATE (a1)-[:TRANSACTION {amount: 200}]->(a2)\n",
    "            \"\"\")\n",
    "            session.run(\"\"\"\n",
    "            MATCH (a1:Account {id: 'acc4'}), (a2:Account {id: 'acc1'})\n",
    "            CREATE (a1)-[:TRANSACTION {amount: 800}]->(a2)\n",
    "            \"\"\")\n",
    "            session.run(\"\"\"\n",
    "            MATCH (a1:Account {id: 'acc1'}), (a2:Account {id: 'acc3'})\n",
    "            CREATE (a1)-[:TRANSACTION {amount: 700}]->(a2)\n",
    "            \"\"\")\n",
    "            session.run(\"\"\"\n",
    "            MATCH (a1:Account {id: 'acc2'}), (a2:Account {id: 'acc4'})\n",
    "            CREATE (a1)-[:TRANSACTION {amount: 300}]->(a2)\n",
    "            \"\"\")"
   ]
  },
  {
   "cell_type": "markdown",
   "metadata": {},
   "source": [
    "## Function to create graph projection"
   ]
  },
  {
   "cell_type": "code",
   "execution_count": null,
   "metadata": {},
   "outputs": [],
   "source": [
    "def create_graph_projection(tx):\n",
    "    query = \"\"\"\n",
    "    CALL gds.graph.project(\n",
    "        'graphAcc2',\n",
    "        'Scene',\n",
    "        {\n",
    "            RELATED: {\n",
    "                properties: 'amount',\n",
    "                orientation: 'UNDIRECTED'\n",
    "            }\n",
    "        }\n",
    "    )\n",
    "    \"\"\"\n",
    "    tx.run(query)"
   ]
  },
  {
   "cell_type": "markdown",
   "metadata": {},
   "source": [
    "## Function to compute the minimum spanning tree and write it to the database"
   ]
  },
  {
   "cell_type": "code",
   "execution_count": null,
   "metadata": {},
   "outputs": [],
   "source": [
    "def compute_spanning_tree(tx, account_id):\n",
    "    query = \"\"\"\n",
    "    MATCH (n:Account {id: $account_id})\n",
    "    CALL gds.spanningTree.write('graphAcc2', {\n",
    "        sourceNode: n,\n",
    "        relationshipWeightProperty: 'amount',\n",
    "        writeProperty: 'writeAmount',\n",
    "        writeRelationshipType: 'MINST'\n",
    "    })\n",
    "    YIELD preProcessingMillis, computeMillis, writeMillis, effectiveNodeCount\n",
    "    RETURN preProcessingMillis, computeMillis, writeMillis, effectiveNodeCount\n",
    "    \"\"\"\n",
    "    result = tx.run(query, account_id=account_id)\n",
    "    return result.single()"
   ]
  },
  {
   "cell_type": "markdown",
   "metadata": {},
   "source": [
    "## Function to fetch the spanning tree relationships"
   ]
  },
  {
   "cell_type": "code",
   "execution_count": null,
   "metadata": {},
   "outputs": [],
   "source": [
    "def fetch_spanning_tree_relationships(tx, account_id):\n",
    "    query = \"\"\"\n",
    "    MATCH path = (n:Account {id: $account_id})-[:MINST*]-()\n",
    "    WITH relationships(path) AS rels\n",
    "    UNWIND rels AS rel\n",
    "    WITH DISTINCT rel AS rel\n",
    "    RETURN startNode(rel).id AS Source, endNode(rel).id AS Destination, rel.writeAmount AS Weight\n",
    "    \"\"\"\n",
    "    result = tx.run(query, account_id=account_id)\n",
    "    return result.data()"
   ]
  },
  {
   "cell_type": "markdown",
   "metadata": {},
   "source": [
    "## Function to perform DFS"
   ]
  },
  {
   "cell_type": "code",
   "execution_count": null,
   "metadata": {},
   "outputs": [],
   "source": [
    "def perform_dfs(tx, account_id):\n",
    "    query = \"\"\"\n",
    "    MATCH (start:Account {id: $account_id})\n",
    "    CALL gds.dfs.stream('graphAcc', {\n",
    "        sourceNode: id(start)\n",
    "    })\n",
    "    YIELD path\n",
    "    UNWIND nodes(path) AS node\n",
    "    RETURN collect(node.id) AS visitOrder\n",
    "    \"\"\"\n",
    "    result = tx.run(query, account_id=account_id)\n",
    "    return result.single()['visitOrder']"
   ]
  },
  {
   "cell_type": "markdown",
   "metadata": {},
   "source": [
    "## Function to perform BFS"
   ]
  },
  {
   "cell_type": "code",
   "execution_count": null,
   "metadata": {},
   "outputs": [],
   "source": [
    "def perform_bfs(tx, account_id):\n",
    "    query = \"\"\"\n",
    "    MATCH (start:Account {id: $account_id})\n",
    "    CALL gds.bfs.stream('graphAcc', {\n",
    "        sourceNode: id(start)\n",
    "    })\n",
    "    YIELD path\n",
    "    UNWIND nodes(path) AS node\n",
    "    RETURN collect(node.id) AS visitOrder\n",
    "    \"\"\"\n",
    "    result = tx.run(query, account_id=account_id)\n",
    "    return result.single()['visitOrder']"
   ]
  },
  {
   "cell_type": "markdown",
   "metadata": {},
   "source": [
    "## Run all functions"
   ]
  },
  {
   "cell_type": "code",
   "execution_count": null,
   "metadata": {},
   "outputs": [],
   "source": [
    "with driver.session() as session:\n",
    "    # Create graph projection\n",
    "    session.write_transaction(create_graph_projection)\n",
    "    \n",
    "    # Account ID\n",
    "    account_id = 'acc1'\n",
    "    \n",
    "    # Compute spanning tree\n",
    "    spanning_tree_result = session.write_transaction(compute_spanning_tree, account_id)\n",
    "    print(\"Spanning Tree Result:\", spanning_tree_result)\n",
    "    \n",
    "    # Fetch spanning tree relationships\n",
    "    spanning_tree_relationships = session.read_transaction(fetch_spanning_tree_relationships, account_id)\n",
    "    print(\"Spanning Tree Relationships:\", spanning_tree_relationships)\n",
    "    \n",
    "    # Perform DFS\n",
    "    dfs_result = session.read_transaction(perform_dfs, account_id)\n",
    "    print(\"DFS Visit Order:\", dfs_result)\n",
    "    \n",
    "    # Perform BFS\n",
    "    bfs_result = session.read_transaction(perform_bfs, account_id)\n",
    "    print(\"BFS Visit Order:\", bfs_result)\n",
    "\n",
    "driver.close()"
   ]
  },
  {
   "cell_type": "markdown",
   "metadata": {},
   "source": [
    "## Karusselbetrug mit MWST"
   ]
  },
  {
   "cell_type": "code",
   "execution_count": null,
   "metadata": {},
   "outputs": [],
   "source": [
    "from neo4j import GraphDatabase\n",
    "\n",
    "class FinancialExample:\n",
    "\n",
    "    def __init__(self, uri, user, password):\n",
    "        self.driver = GraphDatabase.driver(uri, auth=(user, password))\n",
    "\n",
    "    def close(self):\n",
    "        self.driver.close()\n",
    "\n",
    "    def create_example_data(self):\n",
    "        with self.driver.session() as session:\n",
    "            session.run(\n",
    "                \"\"\"\n",
    "                // Personen erstellen\n",
    "                CREATE (p1:Person {name: 'Alice', id: '1'})\n",
    "                CREATE (p2:Person {name: 'Bob', id: '2'})\n",
    "                CREATE (p3:Person {name: 'Charlie', id: '3'})\n",
    "                CREATE (p4:Person {name: 'Dave', id: '4'})\n",
    "                CREATE (p5:Person {name: 'Eve', id: '5'})\n",
    "                \n",
    "                // Konten erstellen\n",
    "                CREATE (a1:Account {accountNumber: 'A1', balance: 10000})\n",
    "                CREATE (a2:Account {accountNumber: 'A2', balance: 15000})\n",
    "                CREATE (a3:Account {accountNumber: 'A3', balance: 30000})\n",
    "                CREATE (a4:Account {accountNumber: 'A4', balance: 5000})\n",
    "                CREATE (a5:Account {accountNumber: 'A5', balance: 7000})\n",
    "                \n",
    "                // Beziehungen zwischen Personen und Konten erstellen\n",
    "                CREATE (p1)-[:OWNS]->(a1)\n",
    "                CREATE (p1)-[:OWNS]->(a2)\n",
    "                CREATE (p2)-[:OWNS]->(a3)\n",
    "                CREATE (p3)-[:OWNS]->(a4)\n",
    "                CREATE (p4)-[:OWNS]->(a5)\n",
    "                \n",
    "                // Transaktionen erstellen\n",
    "                CREATE (a1)-[:TRANSFERRED {amount: 7000, date: '2023-01-01'}]->(a2)\n",
    "                CREATE (a2)-[:TRANSFERRED {amount: 5000, date: '2023-01-02'}]->(a3)\n",
    "                CREATE (a3)-[:TRANSFERRED {amount: 30000, date: '2023-01-03'}]->(a4)\n",
    "                CREATE (a4)-[:TRANSFERRED {amount: 7000, date: '2023-01-05'}]->(a5)\n",
    "                CREATE (a5)-[:TRANSFERRED {amount: 7000, date: '2023-01-06'}]->(a1)\n",
    "                CREATE (a4)-[:TRANSFERRED {amount: 5000, date: '2023-01-04'}]->(a1)\n",
    "                \"\"\"\n",
    "            )\n",
    "\n",
    "    def project_graph(self):\n",
    "        with self.driver.session() as session:\n",
    "            session.run(\n",
    "                \"\"\"\n",
    "                    CALL gds.graph.project(\n",
    "                        'graphAcc20',\n",
    "                        'Account',\n",
    "                        {\n",
    "                            TRANSFERRED: {\n",
    "                                properties: 'amount',\n",
    "                                orientation: 'UNDIRECTED'\n",
    "                            }\n",
    "                        }\n",
    "                    )\n",
    "                \n",
    "                \"\"\"\n",
    "            )\n",
    "\n",
    "    def calculate_spanning_tree(self):\n",
    "        with self.driver.session() as session:\n",
    "            result = session.run(\n",
    "                \"\"\"\n",
    "                MATCH (n:Account {accountNumber: 'A1'})\n",
    "                CALL gds.spanningTree.write('graphAcc20', {\n",
    "                  sourceNode: n,\n",
    "                  relationshipWeightProperty: 'amount',\n",
    "                  writeProperty: 'writeAmount',\n",
    "                  writeRelationshipType: 'MINST'\n",
    "                })\n",
    "                YIELD preProcessingMillis, computeMillis, writeMillis, effectiveNodeCount\n",
    "                RETURN preProcessingMillis, computeMillis, writeMillis, effectiveNodeCount\n",
    "                \"\"\"\n",
    "            )\n",
    "            for record in result:\n",
    "                print(\"Spanning Tree Calculation:\")\n",
    "                print(f\"PreProcessingMillis: {record['preProcessingMillis']}\")\n",
    "                print(f\"ComputeMillis: {record['computeMillis']}\")\n",
    "                print(f\"WriteMillis: {record['writeMillis']}\")\n",
    "                print(f\"EffectiveNodeCount: {record['effectiveNodeCount']}\")\n",
    "\n",
    "    def find_cycles(self):\n",
    "        with self.driver.session() as session:\n",
    "            result = session.run(\n",
    "                \"\"\"\n",
    "                MATCH path = (n:Account {accountNumber: 'A1'})-[:TRANSFERRED*]->(n)\n",
    "                WITH relationships(path) AS rels\n",
    "                UNWIND rels AS rel\n",
    "                WITH DISTINCT rel AS rel\n",
    "                RETURN startNode(rel).accountNumber AS Source, endNode(rel).accountNumber AS Destination, rel.amount AS Weight\n",
    "                \"\"\"\n",
    "            )\n",
    "            print(\"Cycles in Transactions:\")\n",
    "            for record in result:\n",
    "                print(f\"Source: {record['Source']}, Destination: {record['Destination']}, Weight: {record['Weight']}\")\n",
    "\n",
    "if __name__ == \"__main__\":\n",
    "    uri = \"bolt://localhost:7687\"\n",
    "    user = \"neo4j\"\n",
    "    password = \"\" \n",
    "\n",
    "    example = FinancialExample(uri, user, password)\n",
    "\n",
    "    # Beispiel-Daten erstellen\n",
    "    print(\"Erstellen der Beispiel-Daten...\")\n",
    "    example.create_example_data()\n",
    "\n",
    "    # Graph projizieren\n",
    "    print(\"Projizieren des Graphen...\")\n",
    "    example.project_graph()\n",
    "\n",
    "    # Spanning Tree berechnen\n",
    "    print(\"Berechnen des Spanning Tree...\")\n",
    "    example.calculate_spanning_tree()\n",
    "\n",
    "    # Zyklen in Transaktionen finden\n",
    "    print(\"Zyklen in Transaktionen finden...\")\n",
    "    example.find_cycles()\n",
    "\n",
    "    example.close()\n"
   ]
  },
  {
   "cell_type": "markdown",
   "metadata": {},
   "source": [
    "## Übergabe an GPT"
   ]
  },
  {
   "cell_type": "code",
   "execution_count": null,
   "metadata": {},
   "outputs": [],
   "source": [
    "import openai\n",
    "\n",
    "class OpenAIWrapper:\n",
    "    def __init__(self, api_key):\n",
    "        self.api_key = api_key\n",
    "        openai.api_key = self.api_key\n",
    "\n",
    "    def generate_chat_response(self, prompt):\n",
    "        response = openai.ChatCompletion.create(\n",
    "            model=\"gpt-3.5-turbo\",\n",
    "            messages=[\n",
    "                {\"role\": \"system\", \"content\": \"You are an expert in fraud detection and money laundering investigation and you have to decide if the following transactions are money laundering. Please analyze the following transaction data and provide a conlcusion.\"},\n",
    "                {\"role\": \"user\", \"content\": prompt}\n",
    "            ]\n",
    "        )\n",
    "        return response.choices[0].message['content']\n",
    "\n",
    "# Funktion zur Analyse der Transaktionen und Generierung des Prompts\n",
    "def analyze_transactions(api_key, transactions):\n",
    "    openai_wrapper = OpenAIWrapper(api_key)\n",
    "    \n",
    "    prompt = \"Cycles in Transactions:\\n\"\n",
    "    for transaction in transactions:\n",
    "        prompt += f\"Source: {transaction['Source']}, Destination: {transaction['Destination']}, Weight: {transaction['Weight']}\\n\"\n",
    "\n",
    "    prompt += \"\\nIs this a suspicious pattern indicating potential money laundering? How should I decide if this is a case of potential money laundering?\"\n",
    "\n",
    "    response = openai_wrapper.generate_chat_response(prompt)\n",
    "    return response\n",
    "\n",
    "transactions = [\n",
    "    {\"Source\": \"A1\", \"Destination\": \"A2\", \"Weight\": 7000},\n",
    "    {\"Source\": \"A2\", \"Destination\": \"A3\", \"Weight\": 5000},\n",
    "    {\"Source\": \"A3\", \"Destination\": \"A4\", \"Weight\": 30000},\n",
    "    {\"Source\": \"A4\", \"Destination\": \"A5\", \"Weight\": 7000},\n",
    "    {\"Source\": \"A5\", \"Destination\": \"A1\", \"Weight\": 7000},\n",
    "    {\"Source\": \"A4\", \"Destination\": \"A1\", \"Weight\": 5000}\n",
    "]\n",
    "\n",
    "\n",
    "api_key = ''\n",
    "\n",
    "# Analyse der Transaktionen und Abrufen der GPT-3 Antwort\n",
    "response = analyze_transactions(api_key, transactions)\n",
    "print(response)\n"
   ]
  }
 ],
 "metadata": {
  "kernelspec": {
   "display_name": "myenv",
   "language": "python",
   "name": "python3"
  },
  "language_info": {
   "name": "python",
   "version": "3.8.18"
  }
 },
 "nbformat": 4,
 "nbformat_minor": 2
}
