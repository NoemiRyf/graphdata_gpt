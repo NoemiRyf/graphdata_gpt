{
 "cells": [
  {
   "cell_type": "markdown",
   "metadata": {},
   "source": [
    "# Filmproduktion Szenen Management Schedule 1\n",
    "\n",
    "## Ziel des Notebooks\n",
    "Dieses Notebook demonstriert, wie man eine Neo4j-Datenbank verwendet, um Filmproduktionsszenen zu verwalten, inklusive Erstellung von Szenen, Relationen und Gewichtungen basierend auf gemeinsamen Ressourcen. Außerdem wird ein Minimal Spanning Tree (MST) generiert, um die Planung von Dreharbeiten zu optimieren.\n"
   ]
  },
  {
   "cell_type": "markdown",
   "metadata": {},
   "source": [
    "### Verbindung zu Neo4j Datenbank aufbauen"
   ]
  },
  {
   "cell_type": "code",
   "execution_count": 14,
   "metadata": {},
   "outputs": [],
   "source": [
    "from neo4j import GraphDatabase\n",
    "\n",
    "uri = \"bolt://localhost:7687\"\n",
    "username = \"neo4j\"\n",
    "password = \"\"\n",
    "driver = GraphDatabase.driver(uri, auth=(username, password))"
   ]
  },
  {
   "cell_type": "markdown",
   "metadata": {},
   "source": [
    "## Erstellung von Knoten und Kanten"
   ]
  },
  {
   "cell_type": "code",
   "execution_count": 18,
   "metadata": {},
   "outputs": [],
   "source": [
    "def add_scene(tx, scene_id, location, actors, equipment, duration):\n",
    "    # Szene-Knoten mit eingebetteten Listen von Schauspielenden und Ausrüstungen sowie der Dauer erstellen\n",
    "    create_scene_query = \"\"\"\n",
    "    MERGE (s:Scene {id: $scene_id})\n",
    "    ON CREATE SET s.location = $location, s.actors = $actors, s.equipment = $equipment, s.duration = $duration\n",
    "    \"\"\"\n",
    "    tx.run(create_scene_query, scene_id=scene_id, location=location, actors=actors, equipment=equipment, duration=duration)\n",
    "\n",
    "def create_edges(tx):\n",
    "    # Kanten zwischen Szenen erstellen, die gemeinsame Schauspieler, Ausrüstungen oder Zeitpläne haben\n",
    "    create_edge_query = \"\"\"\n",
    "    MATCH (s1:Scene), (s2:Scene)\n",
    "    WHERE s1.id < s2.id AND\n",
    "          (ANY(actor IN s1.actors WHERE actor IN s2.actors) OR\n",
    "           ANY(equipment IN s1.equipment WHERE equipment IN s2.equipment) )           \n",
    "    MERGE (s1)-[:RELATED]-(s2) \n",
    "    \"\"\"\n",
    "    # edges ungerichtet\n",
    "    tx.run(create_edge_query)\n",
    "\n"
   ]
  },
  {
   "cell_type": "markdown",
   "metadata": {},
   "source": [
    "## Gewichte setzen von Kanten\n",
    "Niedrieges Gewicht für stärkere Verbindung -> höhere Priorität für das nacheinenader drehen.\n",
    "\n",
    "Gewichtung niedriger wenn:\n",
    "- Anzahl geinsames Equipment\n",
    "- Anzahl gemeisame Actor"
   ]
  },
  {
   "cell_type": "code",
   "execution_count": 5,
   "metadata": {},
   "outputs": [],
   "source": [
    "def set_weights(tx):\n",
    "    set_weights_query = \"\"\"\n",
    "    MATCH (n:Scene)-[r:RELATED]->(m:Scene)\n",
    "    WITH n, m, r,\n",
    "         [x IN n.actors WHERE x IN m.actors] AS sharedActors,\n",
    "         [y IN n.equipment WHERE y IN m.equipment] AS sharedEquipment\n",
    "    SET r.weight = 10 - (size(sharedActors) + size(sharedEquipment))\n",
    "    RETURN n, r, m\n",
    "    \"\"\"\n",
    "    tx.run(set_weights_query)"
   ]
  },
  {
   "cell_type": "markdown",
   "metadata": {},
   "source": [
    "## Graphenprojektion \n",
    "Erstellung eines projizierten Graphen "
   ]
  },
  {
   "cell_type": "code",
   "execution_count": 24,
   "metadata": {},
   "outputs": [],
   "source": [
    "def create_graph_project(tx):\n",
    "    create_graph_query = \"\"\"\n",
    "    CALL gds.graph.project(\n",
    "      'graphSchedulePlan',\n",
    "      'Scene',\n",
    "      {\n",
    "        RELATED: {\n",
    "          properties: 'weight',\n",
    "          orientation: 'UNDIRECTED'\n",
    "        }\n",
    "      }\n",
    "    )\n",
    "    \"\"\"\n",
    "    tx.run(create_graph_query)"
   ]
  },
  {
   "cell_type": "markdown",
   "metadata": {},
   "source": [
    "## Ausführung Spanning Tree"
   ]
  },
  {
   "cell_type": "code",
   "execution_count": 25,
   "metadata": {},
   "outputs": [],
   "source": [
    "def spanning_tree(tx, start_node_id):\n",
    "    spanning_tree_query = \"\"\"\n",
    "    MATCH (n:Scene {id: $start_node_id})\n",
    "    CALL gds.spanningTree.write('graphSchedulePlan', {\n",
    "      sourceNode: n,\n",
    "      relationshipWeightProperty: 'weight',\n",
    "      writeProperty: 'writeWeight',\n",
    "      writeRelationshipType: 'MINST'\n",
    "    })\n",
    "    YIELD preProcessingMillis, computeMillis, writeMillis, effectiveNodeCount\n",
    "    RETURN preProcessingMillis, computeMillis, writeMillis, effectiveNodeCount\n",
    "    \"\"\"\n",
    "    tx.run(spanning_tree_query, start_node_id=start_node_id)"
   ]
  },
  {
   "cell_type": "markdown",
   "metadata": {},
   "source": [
    "## MST Anzeigen"
   ]
  },
  {
   "cell_type": "code",
   "execution_count": 26,
   "metadata": {},
   "outputs": [],
   "source": [
    "def display_tree(tx, start_node_id):\n",
    "    tree_edges = []\n",
    "    display_tree_query = \"\"\"\n",
    "    MATCH path = (n:Scene {id: $start_node_id})-[:MINST*]-()\n",
    "    WITH relationships(path) AS rels\n",
    "    UNWIND rels AS rel\n",
    "    WITH DISTINCT rel AS rel\n",
    "    RETURN startNode(rel).id AS Source, endNode(rel).id AS Destination, rel.writeWeight AS Weight\n",
    "    \"\"\"\n",
    "    results = tx.run(display_tree_query, start_node_id=start_node_id)\n",
    "    for record in results:\n",
    "        tree_edges.append((record['Source'], record['Destination'], record['Weight']))\n",
    "        print(record)\n",
    "    return tree_edges"
   ]
  },
  {
   "cell_type": "markdown",
   "metadata": {},
   "source": [
    "## Depth-First Search (DFS) zur Traversierung des Spanning Trees\n",
    "um tief in jeden Branch des Baumes einzutauchen, bevor zu einem anderen Zweig zurückgekehrt wird. Dies kann dazu beitragen, eine tiefgehende Analyse der Verbindungen zwischen den Szenen durchzuführen."
   ]
  },
  {
   "cell_type": "code",
   "execution_count": 37,
   "metadata": {},
   "outputs": [],
   "source": [
    "def dfs_traversal(tx, start_scene_id):\n",
    "    dfs_query = \"\"\"\n",
    "    MATCH (start:Scene {id: $start_scene_id})\n",
    "    CALL gds.dfs.stream('graphSchedulePlan', {\n",
    "        sourceNode: id(start)\n",
    "    })\n",
    "    YIELD path\n",
    "    UNWIND nodes(path) AS node\n",
    "    RETURN collect(node.id) AS visitOrder\n",
    "    \"\"\"\n",
    "    result = tx.run(dfs_query, start_scene_id=start_scene_id)\n",
    "    visit_order = []\n",
    "    for record in result:\n",
    "        visit_order.extend(record['visitOrder'])\n",
    "    print(\"DFS Visit Order:\", visit_order)\n",
    "    return visit_order"
   ]
  },
  {
   "cell_type": "markdown",
   "metadata": {},
   "source": [
    "## Breadth-First Search (BFS) zur Traversierung des Spanning Trees"
   ]
  },
  {
   "cell_type": "markdown",
   "metadata": {},
   "source": [
    "um die Breite des Baumes zu erforschen, bevor tiefer in die nächste Ebene eingetaucht wird. Diese Methode kann dazu beitragen, eine sequentielle Drehreihenfolge basierend auf der Nähe der Szenen zu etablieren."
   ]
  },
  {
   "cell_type": "code",
   "execution_count": 36,
   "metadata": {},
   "outputs": [],
   "source": [
    "def bfs_traversal(tx, start_scene_id):\n",
    "    bfs_query = \"\"\"\n",
    "    MATCH (start:Scene {id: $start_scene_id})\n",
    "    CALL gds.bfs.stream('graphSchedulePlan', {\n",
    "        sourceNode: id(start)\n",
    "    })\n",
    "    YIELD path\n",
    "    UNWIND nodes(path) AS node\n",
    "    RETURN collect(node.id) AS visitOrder\n",
    "    \"\"\"\n",
    "    result = tx.run(bfs_query, start_scene_id=start_scene_id)\n",
    "    visit_order = []\n",
    "    for record in result:\n",
    "        visit_order.extend(record['visitOrder'])\n",
    "    print(\"BFS Visit Order:\", visit_order)\n",
    "    return visit_order"
   ]
  },
  {
   "cell_type": "markdown",
   "metadata": {},
   "source": [
    "## Funktionen ausführen"
   ]
  },
  {
   "cell_type": "code",
   "execution_count": 39,
   "metadata": {},
   "outputs": [
    {
     "name": "stderr",
     "output_type": "stream",
     "text": [
      "C:\\Users\\Noemi\\AppData\\Local\\Temp\\ipykernel_22404\\784889139.py:6: DeprecationWarning: Using a driver after it has been closed is deprecated. Future versions of the driver will raise an error.\n",
      "  with driver.session() as session:\n",
      "C:\\Users\\Noemi\\AppData\\Local\\Temp\\ipykernel_22404\\784889139.py:8: DeprecationWarning: write_transaction has been renamed to execute_write\n",
      "  session.write_transaction(add_scene, f\"Scene {scene_number}\", scene['location'], scene['actors'], scene['equipment'], scene['duration'])\n"
     ]
    },
    {
     "name": "stdout",
     "output_type": "stream",
     "text": [
      "<Record Source='Scene 4' Destination='Scene 3' Weight=9.0>\n",
      "<Record Source='Scene 3' Destination='Scene 2' Weight=8.0>\n",
      "<Record Source='Scene 2' Destination='Scene 1' Weight=8.0>\n",
      "<Record Source='Scene 1' Destination='Scene 5' Weight=9.0>\n",
      "DFS Visit Order: ['Scene 4', 'Scene 3', 'Scene 2', 'Scene 1', 'Scene 5']\n",
      "BFS Visit Order: ['Scene 4', 'Scene 3', 'Scene 1', 'Scene 2', 'Scene 5']\n"
     ]
    },
    {
     "name": "stderr",
     "output_type": "stream",
     "text": [
      "C:\\Users\\Noemi\\AppData\\Local\\Temp\\ipykernel_22404\\784889139.py:10: DeprecationWarning: write_transaction has been renamed to execute_write\n",
      "  session.write_transaction(create_edges)\n",
      "C:\\Users\\Noemi\\AppData\\Local\\Temp\\ipykernel_22404\\784889139.py:11: DeprecationWarning: write_transaction has been renamed to execute_write\n",
      "  session.write_transaction(set_weights)\n",
      "C:\\Users\\Noemi\\AppData\\Local\\Temp\\ipykernel_22404\\784889139.py:13: DeprecationWarning: write_transaction has been renamed to execute_write\n",
      "  session.write_transaction(spanning_tree, 'Scene 4')\n",
      "C:\\Users\\Noemi\\AppData\\Local\\Temp\\ipykernel_22404\\784889139.py:14: DeprecationWarning: write_transaction has been renamed to execute_write\n",
      "  session.write_transaction(display_tree, 'Scene 4')\n",
      "C:\\Users\\Noemi\\AppData\\Local\\Temp\\ipykernel_22404\\784889139.py:15: DeprecationWarning: write_transaction has been renamed to execute_write\n",
      "  dfs_order = session.write_transaction(dfs_traversal, 'Scene 4')\n",
      "C:\\Users\\Noemi\\AppData\\Local\\Temp\\ipykernel_22404\\784889139.py:16: DeprecationWarning: write_transaction has been renamed to execute_write\n",
      "  bfs_order = session.write_transaction(bfs_traversal, 'Scene 4')\n"
     ]
    }
   ],
   "source": [
    "def load_json_data(file_path, driver):\n",
    "    with open(file_path, 'r') as file:\n",
    "        data = json.load(file)\n",
    "        scenes = data['scenes']\n",
    "        scene_number = 1\n",
    "        with driver.session() as session:\n",
    "            for scene in scenes:\n",
    "                session.write_transaction(add_scene, f\"Scene {scene_number}\", scene['location'], scene['actors'], scene['equipment'], scene['duration'])\n",
    "                scene_number += 1\n",
    "            session.write_transaction(create_edges)\n",
    "            session.write_transaction(set_weights)\n",
    "            session.write_transaction(create_graph_project)\n",
    "            session.write_transaction(spanning_tree, 'Scene 4')\n",
    "            session.write_transaction(display_tree, 'Scene 4')\n",
    "            dfs_order = session.write_transaction(dfs_traversal, 'Scene 4')\n",
    "            bfs_order = session.write_transaction(bfs_traversal, 'Scene 4')\n",
    "\n",
    "# Pfad zur JSON-Datei\n",
    "json_file_path = 'data/scenes.json'\n",
    "load_json_data(json_file_path, driver)\n",
    "\n",
    "# Ressourcen freigeben\n",
    "driver.close()\n"
   ]
  },
  {
   "cell_type": "markdown",
   "metadata": {},
   "source": [
    "## Parallel drehbare Szenen identifizieren"
   ]
  },
  {
   "cell_type": "code",
   "execution_count": 41,
   "metadata": {},
   "outputs": [
    {
     "name": "stdout",
     "output_type": "stream",
     "text": [
      "Isolierte Szenen, die parallel gedreht werden könnten:\n",
      "Scene 4\n",
      "Scene 5\n"
     ]
    }
   ],
   "source": [
    "from neo4j import GraphDatabase\n",
    "\n",
    "# Neo4j connection setup\n",
    "uri = \"bolt://localhost:7687\"\n",
    "username = \"neo4j\"\n",
    "password = \"\"\n",
    "driver = GraphDatabase.driver(uri, auth=(username, password))\n",
    "\n",
    "def fetch_isolated_scenes():\n",
    "    isolated_scenes = []\n",
    "\n",
    "    with driver.session() as session:\n",
    "        # Abfrage zum Finden von Szenen ohne ausgehende RELATED-Beziehungen\n",
    "        result = session.run(\"\"\"\n",
    "            MATCH (s:Scene)\n",
    "            WHERE NOT (s)-[:RELATED]->(:Scene)\n",
    "            RETURN s.id AS id\n",
    "        \"\"\")\n",
    "        \n",
    "        # Sammeln aller Szenenstandorte, die keine Abhängigkeiten haben\n",
    "        isolated_scenes = [record['id'] for record in result]\n",
    "\n",
    "    return isolated_scenes\n",
    "\n",
    "def plan_scenes():\n",
    "    isolated = fetch_isolated_scenes()\n",
    "    print(\"Isolierte Szenen, die parallel gedreht werden könnten:\")\n",
    "    for scene in isolated:\n",
    "        print(scene)\n",
    "\n",
    "plan_scenes()\n",
    "\n",
    "# Ressourcen freigeben\n",
    "driver.close()\n"
   ]
  },
  {
   "cell_type": "markdown",
   "metadata": {},
   "source": [
    "## Schedule Plan zusammensetzen"
   ]
  },
  {
   "cell_type": "code",
   "execution_count": 43,
   "metadata": {},
   "outputs": [
    {
     "name": "stdout",
     "output_type": "stream",
     "text": [
      "DFS Visit Order: ['Scene 4', 'Scene 3', 'Scene 2', 'Scene 1', 'Scene 5']\n",
      "Schedule Plan:\n",
      "Scene 4 (Actors: Nina Kraft, Oscar Wilde, Equipment: Camera W, Gimbal D, Camera Z, Location: Bahnhofstrasse), Scene 5 (Actors: Sara Löwe, Felix Sonne, Equipment: Camera V, Microphone A, Location: ETH Zürich) parallel drehbar\n",
      "Scene 3 (Actors: Tom Braun, Johanna Schmidt, Lisa Feld, Equipment: Camera Z, Boom Mic B, Location: Bellevue)\n",
      "Scene 2 (Actors: Max Müller, Lisa Feld, Equipment: Drone Y, Camera X, Boom Mic B, Location: Uetliberg)\n",
      "Scene 1 (Actors: Max Müller, Johanna Schmidt, Equipment: Camera X, Microphone A, Location: Zürich Zentrum)\n"
     ]
    },
    {
     "name": "stderr",
     "output_type": "stream",
     "text": [
      "C:\\Users\\Noemi\\AppData\\Local\\Temp\\ipykernel_22404\\2044792590.py:58: DeprecationWarning: write_transaction has been renamed to execute_write\n",
      "  dfs_order = session.write_transaction(dfs_traversal, 'Scene 4')\n"
     ]
    }
   ],
   "source": [
    "from neo4j import GraphDatabase\n",
    "\n",
    "# Neo4j connection setup\n",
    "uri = \"bolt://localhost:7687\"\n",
    "username = \"neo4j\"\n",
    "password = \"\"\n",
    "driver = GraphDatabase.driver(uri, auth=(username, password))\n",
    "\n",
    "def dfs_traversal(tx, start_scene_id):\n",
    "    dfs_query = \"\"\"\n",
    "    MATCH (start:Scene {id: $start_scene_id})\n",
    "    CALL gds.dfs.stream('graphSchedulePlan', {\n",
    "        sourceNode: id(start)\n",
    "    })\n",
    "    YIELD path\n",
    "    UNWIND nodes(path) AS node\n",
    "    RETURN collect(node.id) AS visitOrder\n",
    "    \"\"\"\n",
    "    result = tx.run(dfs_query, start_scene_id=start_scene_id)\n",
    "    visit_order = []\n",
    "    for record in result:\n",
    "        visit_order.extend(record['visitOrder'])\n",
    "    print(\"DFS Visit Order:\", visit_order)\n",
    "    return visit_order\n",
    "\n",
    "def fetch_isolated_scenes():\n",
    "    isolated_scenes = []\n",
    "    with driver.session() as session:\n",
    "        result = session.run(\"\"\"\n",
    "            MATCH (s:Scene)\n",
    "            WHERE NOT (s)-[:RELATED]->(:Scene)\n",
    "            RETURN s.id AS id\n",
    "        \"\"\")\n",
    "        isolated_scenes = [record['id'] for record in result]\n",
    "    return isolated_scenes\n",
    "\n",
    "def fetch_scene_details():\n",
    "    scene_details = {}\n",
    "    with driver.session() as session:\n",
    "        result = session.run(\"\"\"\n",
    "            MATCH (s:Scene)\n",
    "            RETURN s.id AS id, s.actors AS actors, s.equipment AS equipment, s.location AS location\n",
    "        \"\"\")\n",
    "        for record in result:\n",
    "            scene_details[record['id']] = {\n",
    "                'actors': record['actors'],\n",
    "                'equipment': record['equipment'],\n",
    "                'location': record['location']\n",
    "            }\n",
    "    return scene_details\n",
    "\n",
    "def plan_scenes():\n",
    "    isolated = fetch_isolated_scenes()\n",
    "    scene_details = fetch_scene_details()\n",
    "    \n",
    "    # DFS Traversal order\n",
    "    with driver.session() as session:\n",
    "        dfs_order = session.write_transaction(dfs_traversal, 'Scene 4')\n",
    "\n",
    "    # Erstellen eines Plans ohne doppelte Destinations\n",
    "    seen = set()\n",
    "    plan = []\n",
    "\n",
    "    for scene in dfs_order:\n",
    "        if scene not in seen:\n",
    "            plan.append(scene)\n",
    "            seen.add(scene)\n",
    "\n",
    "    # Integrieren der isolierten Szenen\n",
    "    new_plan = []\n",
    "    inserted_isolated = False\n",
    "\n",
    "    for scene in plan:\n",
    "        if scene in isolated and not inserted_isolated:\n",
    "            new_plan.append((\" and \".join(isolated), \"parallel drehbar\"))\n",
    "            inserted_isolated = True\n",
    "        elif scene not in isolated:\n",
    "            new_plan.append(scene)\n",
    "\n",
    "    print(\"Schedule Plan:\")\n",
    "    for item in new_plan:\n",
    "        if isinstance(item, tuple):\n",
    "            scenes = item[0].split(\" and \")\n",
    "            details = [f\"{scene} (Actors: {', '.join(scene_details[scene]['actors'])}, Equipment: {', '.join(scene_details[scene]['equipment'])}, Location: {scene_details[scene]['location']})\" for scene in scenes]\n",
    "            print(\", \".join(details) + \" \" + item[1])\n",
    "        else:\n",
    "            details = scene_details[item]\n",
    "            print(f\"{item} (Actors: {', '.join(details['actors'])}, Equipment: {', '.join(details['equipment'])}, Location: {details['location']})\")\n",
    "\n",
    "# Ausführen der Planungsfunktion\n",
    "plan_scenes()\n",
    "\n",
    "# Ressourcen freigeben\n",
    "driver.close()\n"
   ]
  }
 ],
 "metadata": {
  "kernelspec": {
   "display_name": "myenv",
   "language": "python",
   "name": "python3"
  },
  "language_info": {
   "codemirror_mode": {
    "name": "ipython",
    "version": 3
   },
   "file_extension": ".py",
   "mimetype": "text/x-python",
   "name": "python",
   "nbconvert_exporter": "python",
   "pygments_lexer": "ipython3",
   "version": "3.8.18"
  }
 },
 "nbformat": 4,
 "nbformat_minor": 2
}
