{
 "cells": [
  {
   "cell_type": "markdown",
   "metadata": {},
   "source": [
    "# GPT Übergabe"
   ]
  },
  {
   "cell_type": "code",
   "execution_count": 5,
   "metadata": {},
   "outputs": [
    {
     "name": "stdout",
     "output_type": "stream",
     "text": [
      "GPT-3's Insights: In comparing the two film production schedules, we can analyze them based on actor availability, equipment use, and location logistics to understand the differences and potential advantages of each plan.\n",
      "\n",
      "**Actor Availability:**\n",
      "\n",
      "- Both schedules utilize the same set of actors but in different scenes and combinations. \n",
      "- Schedule Plan 1 starts with Scene 4, involving Nina Kraft and Oscar Wilde, while Schedule Plan 2 starts with Scene 2, with Max Müller and Lisa Feld. \n",
      "- Both plans have scenes with Tom Braun, Johanna Schmidt, and Lisa Feld, but in different orders.\n",
      "\n",
      "**Equipment Use:**\n",
      "\n",
      "- Both schedules involve a variety of equipment like different cameras, microphones, and drones.\n",
      "- Schedule Plan 1 seems to distribute the equipment usage more evenly across the scenes compared to Plan 2, which concentrates most equipment in the initial scenes.\n",
      "\n",
      "**Location Logistics:**\n",
      "\n",
      "- Each schedule involves multiple locations, including Bahnhofstrasse, ETH Zürich, Bellevue, Uetliberg, and Zürich Zentrum.\n",
      "- Schedule Plan 1 starts with a scene at Bahnhofstrasse and ETH Zürich while Schedule Plan 2 starts with a scene at Uetliberg.\n",
      "\n",
      "**Analysis:**\n",
      "\n",
      "- Schedule Plan 1 seems to mix up the locations and actors more effectively compared to Schedule Plan 2, which has more consecutive scenes with Max Müller and Lisa Feld.\n",
      "- Schedule Plan 2 may be more efficient in terms of equipment use as it starts with a scene utilizing Drone Y, Camera X, and Boom Mic B, which are then not used in subsequent scenes.\n",
      "- Schedule Plan 1 may offer a better variety in terms of visuals and actor interactions as it switches between different locations and actor combinations more frequently.\n",
      "\n",
      "**Conclusion:**\n",
      "\n",
      "- Both schedules have their strengths in terms of actor utilization, equipment efficiency, and location variety.\n",
      "- The choice between the two plans may depend on factors like the desired visual variety, actor pairings, and equipment availability.\n",
      "- Ultimately, the best schedule would be determined by the specific vision for the film, the availability of resources, and logistical considerations during the actual production process.\n"
     ]
    }
   ],
   "source": [
    "import openai\n",
    "\n",
    "class OpenAIWrapper:\n",
    "    def __init__(self, api_key):\n",
    "        self.api_key = api_key\n",
    "        openai.api_key = self.api_key\n",
    "\n",
    "    def generate_chat_response(self, prompt):\n",
    "        response = openai.ChatCompletion.create(\n",
    "            model=\"gpt-3.5-turbo\",\n",
    "            messages=[\n",
    "                {\"role\": \"system\", \"content\": \"Please analyze the following film production schedules based on actor availability, equipment use, and location logistics.\"},\n",
    "                {\"role\": \"user\", \"content\": prompt}\n",
    "            ]\n",
    "        )\n",
    "        return response.choices[0].message['content']\n",
    "\n",
    "if __name__ == \"__main__\":\n",
    "    api_key = ''\n",
    "    openai_wrapper = OpenAIWrapper(api_key)\n",
    "    \n",
    "    prompt = \"\"\"\n",
    "    Here are two different film production schedules:\n",
    "\n",
    "    Schedule Plan 1:\n",
    "    - Scene 4 (Actors: Nina Kraft, Oscar Wilde, Equipment: Camera W, Gimbal D, Camera Z, Location: Bahnhofstrasse), Scene 5 (Actors: Sara Löwe, Felix Sonne, Equipment: Camera V, Microphone A, Location: ETH Zürich) parallel drehbar\n",
    "    - Scene 3 (Actors: Tom Braun, Johanna Schmidt, Lisa Feld, Equipment: Camera Z, Boom Mic B, Location: Bellevue)\n",
    "    - Scene 2 (Actors: Max Müller, Lisa Feld, Equipment: Drone Y, Camera X, Boom Mic B, Location: Uetliberg)\n",
    "    - Scene 1 (Actors: Max Müller, Johanna Schmidt, Equipment: Camera X, Microphone A, Location: Zürich Zentrum)\n",
    "\n",
    "    Schedule Plan 2:\n",
    "    - Scene 2 (Actors: Max Müller, Lisa Feld, Equipment: Drone Y, Camera X, Boom Mic B, Location: Uetliberg)\n",
    "    - Scene 3 (Actors: Tom Braun, Johanna Schmidt, Lisa Feld, Equipment: Camera Z, Boom Mic B, Location: Bellevue)\n",
    "    - Scene 4 (Actors: Nina Kraft, Oscar Wilde, Equipment: Camera W, Gimbal D, Camera Z, Location: Bahnhofstrasse), Scene 5 (Actors: Sara Löwe, Felix Sonne, Equipment: Camera V, Microphone A, Location: ETH Zürich) parallel drehbar\n",
    "    - Scene 1 (Actors: Max Müller, Johanna Schmidt, Equipment: Camera X, Microphone A, Location: Zürich Zentrum)\n",
    "    \"\"\"\n",
    "    insights = openai_wrapper.generate_chat_response(prompt)\n",
    "    print(f\"GPT-3's Insights: {insights}\")\n"
   ]
  }
 ],
 "metadata": {
  "kernelspec": {
   "display_name": "myenv",
   "language": "python",
   "name": "python3"
  },
  "language_info": {
   "codemirror_mode": {
    "name": "ipython",
    "version": 3
   },
   "file_extension": ".py",
   "mimetype": "text/x-python",
   "name": "python",
   "nbconvert_exporter": "python",
   "pygments_lexer": "ipython3",
   "version": "3.8.18"
  }
 },
 "nbformat": 4,
 "nbformat_minor": 2
}
