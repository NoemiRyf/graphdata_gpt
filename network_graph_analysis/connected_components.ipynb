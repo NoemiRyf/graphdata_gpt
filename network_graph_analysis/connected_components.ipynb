{
 "cells": [
  {
   "cell_type": "markdown",
   "metadata": {},
   "source": [
    "## Weakly Connected Components und Strongly Connected Components von Neo4j"
   ]
  },
  {
   "cell_type": "markdown",
   "metadata": {},
   "source": [
    "WCC: Identifiziert Gruppen von Knoten in einem ungerichteten Graphen, die durch Pfade miteinander verbunden sind, unabhängig von der Richtung der Beziehungen. <br>\n",
    "SCC: Identifiziert Gruppen von Knoten in einem gerichteten Graphen, in dem für jedes Knotenpaar in der Gruppe ein Pfad von jedem Knoten zum anderen existiert, wobei die Richtung der Beziehungen berücksichtigt wird. <br>"
   ]
  },
  {
   "cell_type": "code",
   "execution_count": null,
   "metadata": {},
   "outputs": [],
   "source": [
    "from py2neo import Graph\n",
    "\n",
    "graph = Graph(\"bolt://localhost:7687\", auth=(\"neo4j\", \"\")) \n",
    "\n",
    "# Cypher-Abfrage für den WCC Algorithmus\n",
    "wcc_query = \"\"\"\n",
    "CALL gds.wcc.stream('myGraphConnections')\n",
    "YIELD nodeId, componentId\n",
    "RETURN gds.util.asNode(nodeId).name AS name, componentId\n",
    "ORDER BY componentId\n",
    "\"\"\"\n",
    "\n",
    "results = graph.run(wcc_query).data()\n",
    "\n",
    "for result in results:\n",
    "    print(result)"
   ]
  },
  {
   "cell_type": "code",
   "execution_count": null,
   "metadata": {},
   "outputs": [],
   "source": [
    "import openai\n",
    "\n",
    "class OpenAIWrapper:\n",
    "    def __init__(self, api_key):\n",
    "        self.api_key = api_key\n",
    "        openai.api_key = self.api_key\n",
    "\n",
    "    def generate_chat_response(self, prompt, model=\"gpt-3.5-turbo\", temperature=0.7, max_tokens=150):\n",
    "        try:\n",
    "            response = openai.ChatCompletion.create(\n",
    "                model=model,\n",
    "                messages=[\n",
    "                    {\"role\": \"system\", \"content\": \"You are a helpful assistant.\"},\n",
    "                    {\"role\": \"user\", \"content\": prompt}\n",
    "                ],\n",
    "                temperature=temperature,\n",
    "                max_tokens=max_tokens\n",
    "            )\n",
    "            return response.choices[0].message['content'].strip() \n",
    "        except Exception as e:\n",
    "            return f\"An error occurred: {str(e)}\""
   ]
  },
  {
   "cell_type": "code",
   "execution_count": null,
   "metadata": {},
   "outputs": [],
   "source": [
    "openai_wrapper = OpenAIWrapper(api_key='')\n",
    "\n",
    "prompt_intro = \"Based on the following weakly connected components analysis of a network, where every person is connected to every other person through some path:\\n\\n\"\n",
    "\n",
    "prompt_body = \"\\n\".join([f\"{res['name']} is in component {res['componentId']}\" for res in results])\n",
    "\n",
    "prompt_questions = \"\\n\\nWhat insights can we derive from this complete connectivity? What might be the implications for information flow or social dynamics within this network?\"\n",
    "\n",
    "complete_prompt = prompt_intro + prompt_body + prompt_questions\n",
    "\n",
    "print(complete_prompt)\n",
    "\n",
    "response = openai_wrapper.generate_chat_response(complete_prompt)\n",
    "print(f\"GPT-3's Insights: {response}\")"
   ]
  },
  {
   "cell_type": "code",
   "execution_count": null,
   "metadata": {},
   "outputs": [],
   "source": [
    "scc_query = \"\"\"\n",
    "CALL gds.alpha.scc.stream('myGraphConnections')\n",
    "YIELD nodeId, componentId\n",
    "RETURN gds.util.asNode(nodeId).name AS name, componentId\n",
    "ORDER BY componentId\n",
    "\"\"\"\n",
    "\n",
    "results = graph.run(scc_query).data()\n",
    "\n",
    "for result in results:\n",
    "    print(result)\n"
   ]
  },
  {
   "cell_type": "markdown",
   "metadata": {},
   "source": [
    "Output Deutung: <br>\n",
    "alle Knoten dieselbe componentId (0) für beide Algorithmen haben, deutet dies darauf hin, dass Ihr Graph im Kontext von WCC als vollständig verbunden betrachtet wird. <br>\n",
    "Für SCC bedeutet es, dass, trotz der Berücksichtigung der Richtung der Beziehungen, immer noch jeder Knoten von jedem anderen Knoten aus erreichbar ist. Dies zeigt eine starke interne Vernetzung <br>"
   ]
  },
  {
   "cell_type": "code",
   "execution_count": null,
   "metadata": {},
   "outputs": [],
   "source": [
    "prompt_intro = \"Based on the analysis of strongly connected components in the network, where each person can reach every other person through a directed path, the following connections were identified:\\n\\n\"\n",
    "\n",
    "# Die Ergebnisse in einen lesbaren Text umwandeln\n",
    "prompt_body = \"\\n\".join([f\"{res['name']} is in strongly connected component {res['componentId']}\" for res in results])\n",
    "\n",
    "prompt_questions = \"\\n\\nConsidering this strong interconnectivity, what can be inferred about the network's resilience and potential points of failure? Additionally, how might this connectivity influence the spread of information or behaviors within the network?\"\n",
    "\n",
    "complete_prompt = prompt_intro + prompt_body + prompt_questions\n",
    "\n",
    "print(complete_prompt)\n",
    "\n",
    "response = openai_wrapper.generate_chat_response(complete_prompt)\n",
    "print(f\"GPT-3's Insights: {response}\")\n"
   ]
  }
 ],
 "metadata": {
  "language_info": {
   "name": "python"
  }
 },
 "nbformat": 4,
 "nbformat_minor": 2
}
