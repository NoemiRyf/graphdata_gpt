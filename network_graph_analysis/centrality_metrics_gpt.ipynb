{
 "cells": [
  {
   "cell_type": "markdown",
   "metadata": {},
   "source": [
    "## Zentralitätsmetriken"
   ]
  },
  {
   "cell_type": "markdown",
   "metadata": {},
   "source": [
    "PageRank: Identifiziert die Einflussreichsten Knoten basierend darauf, wie viele Verbindungen (Kanten) auf sie zeigen und wie einflussreich die Knoten sind, die auf sie zeigen. <br>\n",
    "Betweeness Centralitiy: Misst, wie oft ein Knoten auf dem kürzesten Pfad zwischen anderen Knotenpaaren liegt. Hohe Betweenness-Werte weisen auf Knoten hin, die als wichtige Vermittler innerhalb des Netzwerks fungieren "
   ]
  },
  {
   "cell_type": "markdown",
   "metadata": {},
   "source": [
    "#### Cypher Pagerank Query"
   ]
  },
  {
   "cell_type": "code",
   "execution_count": null,
   "metadata": {},
   "outputs": [],
   "source": [
    "from py2neo import Graph\n",
    "\n",
    "graph = Graph(\"bolt://localhost:7687\", auth=(\"neo4j\", \"\"))\n",
    "\n",
    "pagerank_query = \"\"\"\n",
    "CALL gds.pageRank.stream('myGraphConnections')\n",
    "YIELD nodeId, score\n",
    "RETURN gds.util.asNode(nodeId).name AS name, score\n",
    "ORDER BY score DESC\n",
    "\"\"\"\n",
    "pagerank_results = graph.run(pagerank_query).data()\n",
    "\n",
    "for result in pagerank_results:\n",
    "    print(result)"
   ]
  },
  {
   "cell_type": "markdown",
   "metadata": {},
   "source": [
    "Output Deutung: <br>\n",
    "Zeigt die \"Wichtigkeit\" oder den Einfluss jedes Knotens (repräsentiert durch Personen) in Ihrem Netzwerk, basierend auf der PageRank-Metrik. <br>\n",
    "\n",
    "James Becker: hat den höchsten PageRank-Score, was darauf hindeutet, dass er im Zentrum des Netzwerks steht. Dies bedeutet, dass James direkt oder indirekt gut mit anderen wichtigen Knoten verbunden ist.<br>\n",
    "Ava Weber und Oliver Schulz: erscheinen auch mit hohen Scores, was auf ihre zentralen Rollen im Netzwerk hinweist. <br>\n",
    "John Smith, Max Mustermann und Jane Doe: haben die niedrigsten Scores, was darauf hinweisen könnte, dass sie weniger zentral sind oder weniger direkte Verbindungen zu anderen wichtigen Knoten haben."
   ]
  },
  {
   "cell_type": "markdown",
   "metadata": {},
   "source": [
    "#### Übergabe an GPT"
   ]
  },
  {
   "cell_type": "code",
   "execution_count": null,
   "metadata": {},
   "outputs": [],
   "source": [
    "import openai\n",
    "\n",
    "class OpenAIWrapper:\n",
    "    def __init__(self, api_key):\n",
    "        self.api_key = api_key\n",
    "        openai.api_key = self.api_key\n",
    "\n",
    "    def generate_chat_response(self, prompt, model=\"gpt-3.5-turbo\", temperature=0.7, max_tokens=150):\n",
    "        try:\n",
    "            response = openai.ChatCompletion.create(\n",
    "                model=model,\n",
    "                messages=[\n",
    "                    {\"role\": \"system\", \"content\": \"You are a helpful assistant.\"},\n",
    "                    {\"role\": \"user\", \"content\": prompt}\n",
    "                ],\n",
    "                temperature=temperature,\n",
    "                max_tokens=max_tokens\n",
    "            )\n",
    "            return response.choices[0].message['content'].strip() \n",
    "        except Exception as e:\n",
    "            return f\"An error occurred: {str(e)}\""
   ]
  },
  {
   "cell_type": "code",
   "execution_count": null,
   "metadata": {},
   "outputs": [],
   "source": [
    "openai_wrapper = OpenAIWrapper(api_key='')\n",
    "\n",
    "prompt_intro = \"Based on the PageRank analysis of the network, the nodes are ranked according to their influence within the network. The PageRank score indicates the likelihood of arriving at a node through random walks. Here are the top-ranked nodes based on their PageRank scores:\\n\\n\"\n",
    "\n",
    "prompt_body = \"\\n\".join([f\"- {res['name']} with a PageRank score of {res['score']:.2f}\" for res in pagerank_results[:10]])  # Top 10 für den Prompt\n",
    "\n",
    "prompt_question = \"\\n\\nWhat insights can be drawn from these PageRank scores regarding the structure and influence dynamics within the network? Additionally, what further analyses could provide deeper understanding of the network's characteristics?\"\n",
    "\n",
    "complete_prompt = prompt_intro + prompt_body + prompt_question\n",
    "\n",
    "print(complete_prompt)\n",
    "\n",
    "response = openai_wrapper.generate_chat_response(complete_prompt)\n",
    "print(f\"GPT-3's Insights: {response}\")"
   ]
  },
  {
   "cell_type": "markdown",
   "metadata": {},
   "source": [
    "#### Cypher Betweenness Query"
   ]
  },
  {
   "cell_type": "code",
   "execution_count": null,
   "metadata": {},
   "outputs": [],
   "source": [
    "betweenness_query = \"\"\"\n",
    "CALL gds.betweenness.stream('myGraphConnections')\n",
    "YIELD nodeId, score\n",
    "RETURN gds.util.asNode(nodeId).name AS name, score\n",
    "ORDER BY score DESC\n",
    "\"\"\"\n",
    "\n",
    "betweenness_results = graph.run(betweenness_query).data()\n",
    "\n",
    "for result in betweenness_results:\n",
    "    print(result)"
   ]
  },
  {
   "cell_type": "markdown",
   "metadata": {},
   "source": [
    "Output Deutung: <br>\n",
    "James Becker und Oliver Schulz zeigen sehr hohe Betweenness-Werte, was darauf hindeutet, dass sie wichtige Verbindungspunkte im Netzwerk sind <br>\n",
    "Max Mustermann, Jane Doe, und John Smith haben eine Betweenness Centrality von 0, was bedeutet, dass sie nicht auf kürzesten Pfaden zwischen anderen Knoten liegen. "
   ]
  },
  {
   "cell_type": "markdown",
   "metadata": {},
   "source": [
    "#### Übergabe an GPT"
   ]
  },
  {
   "cell_type": "code",
   "execution_count": null,
   "metadata": {},
   "outputs": [],
   "source": [
    "prompt_intro = \"Based on the Betweenness Centrality analysis of the network, the nodes are ranked according to their roles as intermediaries in the communication paths across the network. The Betweenness Centrality score indicates how often a node acts as a bridge along the shortest path between two other nodes. Here are the nodes with the highest Betweenness Centrality scores:\\n\\n\"\n",
    "\n",
    "prompt_body = \"\\n\".join([f\"- {res['name']} with a Betweenness Centrality score of {res['score']:.2f}\" for res in betweenness_results[:10]])  # Nehmen wir die Top 10 für den Prompt\n",
    "\n",
    "prompt_question = \"\\n\\nWhat can be inferred about the network's structure and the importance of these nodes from these Betweenness Centrality scores? What implications do these scores have for the flow of information or influence within the network?\"\n",
    "\n",
    "complete_prompt = prompt_intro + prompt_body + prompt_question\n",
    "\n",
    "print(complete_prompt)\n",
    "\n",
    "response = openai_wrapper.generate_chat_response(complete_prompt)\n",
    "print(f\"GPT-3's Insights: {response}\")"
   ]
  }
 ],
 "metadata": {
  "language_info": {
   "name": "python"
  }
 },
 "nbformat": 4,
 "nbformat_minor": 2
}
