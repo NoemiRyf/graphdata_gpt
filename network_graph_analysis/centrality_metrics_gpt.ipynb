{
 "cells": [
  {
   "cell_type": "markdown",
   "metadata": {},
   "source": [
    "## Zentralitätsmetriken"
   ]
  },
  {
   "cell_type": "markdown",
   "metadata": {},
   "source": [
    "PageRank: Identifiziert die Einflussreichsten Knoten basierend darauf, wie viele Verbindungen (Kanten) auf sie zeigen und wie einflussreich die Knoten sind, die auf sie zeigen. <br>\n",
    "Betweeness Centralitiy: Misst, wie oft ein Knoten auf dem kürzesten Pfad zwischen anderen Knotenpaaren liegt. Hohe Betweenness-Werte weisen auf Knoten hin, die als wichtige Vermittler innerhalb des Netzwerks fungieren "
   ]
  },
  {
   "cell_type": "markdown",
   "metadata": {},
   "source": [
    "#### Cypher Pagerank Query"
   ]
  },
  {
   "cell_type": "code",
   "execution_count": 13,
   "metadata": {},
   "outputs": [
    {
     "name": "stdout",
     "output_type": "stream",
     "text": [
      "{'account': 'A1', 'score': 1.1700328390646446}\n",
      "{'account': 'A4', 'score': 1.1700328390646446}\n",
      "{'account': 'A2', 'score': 0.828981500254398}\n",
      "{'account': 'A3', 'score': 0.828981500254398}\n",
      "{'account': 'A5', 'score': 0.8081736659393426}\n"
     ]
    }
   ],
   "source": [
    "from py2neo import Graph\n",
    "\n",
    "graph = Graph(\"bolt://localhost:7687\", auth=(\"neo4j\", \"\"))\n",
    "\n",
    "pagerank_query = \"\"\"\n",
    "CALL gds.pageRank.stream('graphAcc20')\n",
    "YIELD nodeId, score\n",
    "RETURN gds.util.asNode(nodeId).accountNumber AS account, score\n",
    "ORDER BY score DESC\n",
    "\"\"\"\n",
    "pagerank_results = graph.run(pagerank_query).data()\n",
    "\n",
    "for result in pagerank_results:\n",
    "    print(result)"
   ]
  },
  {
   "cell_type": "markdown",
   "metadata": {},
   "source": [
    "Output Deutung: <br>\n",
    "Zeigt die \"Wichtigkeit\" oder den Einfluss jedes Knotens (repräsentiert durch Personen) in Ihrem Netzwerk, basierend auf der PageRank-Metrik. <br>"
   ]
  },
  {
   "cell_type": "markdown",
   "metadata": {},
   "source": [
    "#### Übergabe an GPT"
   ]
  },
  {
   "cell_type": "code",
   "execution_count": 14,
   "metadata": {},
   "outputs": [],
   "source": [
    "import openai\n",
    "\n",
    "class OpenAIWrapper:\n",
    "    def __init__(self, api_key):\n",
    "        self.api_key = api_key\n",
    "        openai.api_key = self.api_key\n",
    "\n",
    "    def generate_chat_response(self, prompt, model=\"gpt-3.5-turbo\", temperature=0.7, max_tokens=150):\n",
    "        try:\n",
    "            response = openai.ChatCompletion.create(\n",
    "                model=model,\n",
    "                messages=[\n",
    "                    {\"role\": \"system\", \"content\": \"You are a helpful assistant.\"},\n",
    "                    {\"role\": \"user\", \"content\": prompt}\n",
    "                ],\n",
    "                temperature=temperature,\n",
    "                max_tokens=max_tokens\n",
    "            )\n",
    "            return response.choices[0].message['content'].strip() \n",
    "        except Exception as e:\n",
    "            return f\"An error occurred: {str(e)}\""
   ]
  },
  {
   "cell_type": "code",
   "execution_count": 17,
   "metadata": {},
   "outputs": [
    {
     "name": "stdout",
     "output_type": "stream",
     "text": [
      "Based on the PageRank analysis of the network, the nodes are ranked according to their influence within the network. The PageRank score indicates the likelihood of arriving at a node through random walks. Here are the top-ranked nodes based on their PageRank scores:\n",
      "\n",
      "- A1 with a PageRank score of 1.17\n",
      "- A4 with a PageRank score of 1.17\n",
      "- A2 with a PageRank score of 0.83\n",
      "- A3 with a PageRank score of 0.83\n",
      "- A5 with a PageRank score of 0.81\n",
      "\n",
      "What insights can be drawn from these PageRank scores regarding the structure and influence dynamics within the network? Additionally, what further analyses could provide deeper understanding of the network's characteristics?\n",
      "GPT-3's Insights: An error occurred: You didn't provide an API key. You need to provide your API key in an Authorization header using Bearer auth (i.e. Authorization: Bearer YOUR_KEY), or as the password field (with blank username) if you're accessing the API from your browser and are prompted for a username and password. You can obtain an API key from https://platform.openai.com/account/api-keys.\n"
     ]
    }
   ],
   "source": [
    "openai_wrapper = OpenAIWrapper(api_key='')\n",
    "\n",
    "prompt_intro = \"Based on the PageRank analysis of the network, the nodes are ranked according to their influence within the network. The PageRank score indicates the likelihood of arriving at a node through random walks. Here are the top-ranked nodes based on their PageRank scores:\\n\\n\"\n",
    "\n",
    "prompt_body = \"\\n\".join([f\"- {res['account']} with a PageRank score of {res['score']:.2f}\" for res in pagerank_results[:10]])  # Top 10 für den Prompt\n",
    "\n",
    "prompt_question = \"\\n\\nWhat insights can be drawn from these PageRank scores regarding the structure and influence dynamics within the network? Additionally, what further analyses could provide deeper understanding of the network's characteristics?\"\n",
    "\n",
    "complete_prompt = prompt_intro + prompt_body + prompt_question\n",
    "\n",
    "print(complete_prompt)\n",
    "\n",
    "response = openai_wrapper.generate_chat_response(complete_prompt)\n",
    "print(f\"GPT-3's Insights: {response}\")"
   ]
  },
  {
   "cell_type": "markdown",
   "metadata": {},
   "source": [
    "#### Cypher Betweenness Query"
   ]
  },
  {
   "cell_type": "code",
   "execution_count": 18,
   "metadata": {},
   "outputs": [
    {
     "name": "stdout",
     "output_type": "stream",
     "text": [
      "{'account': 'A1', 'score': 1.5}\n",
      "{'account': 'A4', 'score': 1.5}\n",
      "{'account': 'A2', 'score': 0.5}\n",
      "{'account': 'A3', 'score': 0.5}\n",
      "{'account': 'A5', 'score': 0.0}\n"
     ]
    }
   ],
   "source": [
    "betweenness_query = \"\"\"\n",
    "CALL gds.betweenness.stream('graphAcc20')\n",
    "YIELD nodeId, score\n",
    "RETURN gds.util.asNode(nodeId).accountNumber AS account, score\n",
    "ORDER BY score DESC\n",
    "\"\"\"\n",
    "\n",
    "betweenness_results = graph.run(betweenness_query).data()\n",
    "\n",
    "for result in betweenness_results:\n",
    "    print(result)"
   ]
  },
  {
   "cell_type": "markdown",
   "metadata": {},
   "source": [
    "Output Deutung: <br>\n",
    "James Becker und Oliver Schulz zeigen sehr hohe Betweenness-Werte, was darauf hindeutet, dass sie wichtige Verbindungspunkte im Netzwerk sind <br>\n",
    "Max Mustermann, Jane Doe, und John Smith haben eine Betweenness Centrality von 0, was bedeutet, dass sie nicht auf kürzesten Pfaden zwischen anderen Knoten liegen. "
   ]
  },
  {
   "cell_type": "markdown",
   "metadata": {},
   "source": [
    "#### Übergabe an GPT"
   ]
  },
  {
   "cell_type": "code",
   "execution_count": 19,
   "metadata": {},
   "outputs": [
    {
     "name": "stdout",
     "output_type": "stream",
     "text": [
      "Based on the Betweenness Centrality analysis of the network, the nodes are ranked according to their roles as intermediaries in the communication paths across the network. The Betweenness Centrality score indicates how often a node acts as a bridge along the shortest path between two other nodes. Here are the nodes with the highest Betweenness Centrality scores:\n",
      "\n",
      "- A1 with a Betweenness Centrality score of 1.50\n",
      "- A4 with a Betweenness Centrality score of 1.50\n",
      "- A2 with a Betweenness Centrality score of 0.50\n",
      "- A3 with a Betweenness Centrality score of 0.50\n",
      "- A5 with a Betweenness Centrality score of 0.00\n",
      "\n",
      "What can be inferred about the network's structure and the importance of these nodes from these Betweenness Centrality scores? What implications do these scores have for the flow of information or influence within the network?\n",
      "GPT-3's Insights: An error occurred: You didn't provide an API key. You need to provide your API key in an Authorization header using Bearer auth (i.e. Authorization: Bearer YOUR_KEY), or as the password field (with blank username) if you're accessing the API from your browser and are prompted for a username and password. You can obtain an API key from https://platform.openai.com/account/api-keys.\n"
     ]
    }
   ],
   "source": [
    "prompt_intro = \"Based on the Betweenness Centrality analysis of the network, the nodes are ranked according to their roles as intermediaries in the communication paths across the network. The Betweenness Centrality score indicates how often a node acts as a bridge along the shortest path between two other nodes. Here are the nodes with the highest Betweenness Centrality scores:\\n\\n\"\n",
    "\n",
    "prompt_body = \"\\n\".join([f\"- {res['account']} with a Betweenness Centrality score of {res['score']:.2f}\" for res in betweenness_results[:10]])  #  Top 10 für den Prompt\n",
    "\n",
    "prompt_question = \"\\n\\nWhat can be inferred about the network's structure and the importance of these nodes from these Betweenness Centrality scores? What implications do these scores have for the flow of information or influence within the network?\"\n",
    "\n",
    "complete_prompt = prompt_intro + prompt_body + prompt_question\n",
    "\n",
    "print(complete_prompt)\n",
    "\n",
    "response = openai_wrapper.generate_chat_response(complete_prompt)\n",
    "print(f\"GPT-3's Insights: {response}\")"
   ]
  }
 ],
 "metadata": {
  "kernelspec": {
   "display_name": "myenv",
   "language": "python",
   "name": "python3"
  },
  "language_info": {
   "codemirror_mode": {
    "name": "ipython",
    "version": 3
   },
   "file_extension": ".py",
   "mimetype": "text/x-python",
   "name": "python",
   "nbconvert_exporter": "python",
   "pygments_lexer": "ipython3",
   "version": "3.8.18"
  }
 },
 "nbformat": 4,
 "nbformat_minor": 2
}
