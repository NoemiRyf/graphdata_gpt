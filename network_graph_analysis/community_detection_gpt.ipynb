{
 "cells": [
  {
   "cell_type": "markdown",
   "metadata": {},
   "source": [
    "## Community Erkennung "
   ]
  },
  {
   "cell_type": "markdown",
   "metadata": {},
   "source": [
    "Louvain: um hierarchische Community-Strukturen zu entdecken und dabei die Modularität zu maximieren. Er ist effizient in grossen Netzwerken <br>\n",
    "Label Proagation: schneller und einfacher als Louvain und basiert auf der Idee, dass Knoten die Labels ihrer Nachbarn übernehmen. Er eignet sich besonders gut für Netzwerke, in denen die Community-Struktur dynamisch ist oder wo eine schnelle, vorläufige Einschätzung der Community-Struktur benötigt wird."
   ]
  },
  {
   "cell_type": "markdown",
   "metadata": {},
   "source": [
    "#### Cypher Louvain Query"
   ]
  },
  {
   "cell_type": "code",
   "execution_count": 4,
   "metadata": {},
   "outputs": [
    {
     "name": "stdout",
     "output_type": "stream",
     "text": [
      "{'account': 'A2', 'communityId': 1}\n",
      "{'account': 'A3', 'communityId': 1}\n",
      "{'account': 'A1', 'communityId': 4}\n",
      "{'account': 'A4', 'communityId': 4}\n",
      "{'account': 'A5', 'communityId': 4}\n"
     ]
    }
   ],
   "source": [
    "from py2neo import Graph\n",
    "graph = Graph(\"bolt://localhost:7687\", auth=(\"neo4j\", \"\"))\n",
    "\n",
    "louvain_query = \"\"\"\n",
    "CALL gds.louvain.stream('graphAcc20')\n",
    "YIELD nodeId, communityId\n",
    "RETURN gds.util.asNode(nodeId).accountNumber AS account, communityId\n",
    "ORDER BY communityId\n",
    "\"\"\"\n",
    "louvain_results = graph.run(louvain_query).data()\n",
    "\n",
    "for result in louvain_results:\n",
    "    print(result)\n"
   ]
  },
  {
   "cell_type": "markdown",
   "metadata": {},
   "source": [
    "Output Deutung:<br>\n",
    "Community ID = Gemeinschaftsidentifikation"
   ]
  },
  {
   "cell_type": "markdown",
   "metadata": {},
   "source": [
    "#### Übergabe an GPT"
   ]
  },
  {
   "cell_type": "code",
   "execution_count": 5,
   "metadata": {},
   "outputs": [],
   "source": [
    "import openai\n",
    "\n",
    "class OpenAIWrapper:\n",
    "    def __init__(self, api_key):\n",
    "        self.api_key = api_key\n",
    "        openai.api_key = self.api_key\n",
    "\n",
    "    def generate_chat_response(self, prompt, model=\"gpt-3.5-turbo\", temperature=0.7, max_tokens=150):\n",
    "        try:\n",
    "            response = openai.ChatCompletion.create(\n",
    "                model=model,\n",
    "                messages=[\n",
    "                    {\"role\": \"system\", \"content\": \"You are a helpful assistant.\"},\n",
    "                    {\"role\": \"user\", \"content\": prompt}\n",
    "                ],\n",
    "                temperature=temperature,\n",
    "                max_tokens=max_tokens\n",
    "            )\n",
    "            return response.choices[0].message['content'].strip() \n",
    "        except Exception as e:\n",
    "            return f\"An error occurred: {str(e)}\""
   ]
  },
  {
   "cell_type": "code",
   "execution_count": 6,
   "metadata": {},
   "outputs": [
    {
     "name": "stdout",
     "output_type": "stream",
     "text": [
      "Based on the Louvain Community Detection algorithm, the nodes in the network have been assigned to different communities. Here are the nodes grouped by their respective communities:\n",
      "\n",
      "- A2 in community 1\n",
      "- A3 in community 1\n",
      "- A1 in community 4\n",
      "- A4 in community 4\n",
      "- A5 in community 4\n",
      "\n",
      "What patterns or insights can be observed from the community structure identified by the Louvain algorithm? How do these communities reflect the underlying relationships or dynamics within the network?\n",
      "GPT-3's Insights: An error occurred: You didn't provide an API key. You need to provide your API key in an Authorization header using Bearer auth (i.e. Authorization: Bearer YOUR_KEY), or as the password field (with blank username) if you're accessing the API from your browser and are prompted for a username and password. You can obtain an API key from https://platform.openai.com/account/api-keys.\n"
     ]
    }
   ],
   "source": [
    "openai_wrapper = OpenAIWrapper(api_key='')\n",
    "prompt_intro = \"Based on the Louvain Community Detection algorithm, the nodes in the network have been assigned to different communities. Here are the nodes grouped by their respective communities:\\n\\n\"\n",
    "prompt_body = \"\\n\".join([f\"- {res['account']} in community {res['communityId']}\" for res in louvain_results[:10]])  # Top 10 \n",
    "prompt_topic = \"\\n\\nGiven that these communities may represent different clusters of entities within the network, it's important to analyze if any of these patterns indicate potential money laundering activities. The identification of suspicious patterns and the subsequent decision on whether they constitute money laundering activities require careful consideration of various factors, including transaction patterns, individuals involved, and community structures.\"\n",
    "prompt_question = \"\\n\\nWhat patterns or insights can be observed from the community structure identified by the Louvain algorithm? How do these communities reflect the underlying relationships or dynamics within the network?\"\n",
    "\n",
    "complete_prompt = prompt_intro + prompt_body + prompt_question\n",
    "\n",
    "print(complete_prompt)\n",
    "\n",
    "response = openai_wrapper.generate_chat_response(complete_prompt)\n",
    "print(f\"GPT-3's Insights: {response}\")\n"
   ]
  },
  {
   "cell_type": "markdown",
   "metadata": {},
   "source": [
    "#### Cypher Proagation Query"
   ]
  },
  {
   "cell_type": "code",
   "execution_count": 7,
   "metadata": {},
   "outputs": [
    {
     "name": "stdout",
     "output_type": "stream",
     "text": [
      "{'account': 'A1', 'communityId': 6}\n",
      "{'account': 'A2', 'communityId': 6}\n",
      "{'account': 'A3', 'communityId': 6}\n",
      "{'account': 'A4', 'communityId': 6}\n",
      "{'account': 'A5', 'communityId': 6}\n"
     ]
    }
   ],
   "source": [
    "label_propagation_query = \"\"\"\n",
    "CALL gds.labelPropagation.stream('graphAcc20')\n",
    "YIELD nodeId, communityId\n",
    "RETURN gds.util.asNode(nodeId).accountNumber AS account, communityId\n",
    "ORDER BY communityId\n",
    "\"\"\"\n",
    "label_propagation_results = graph.run(label_propagation_query).data()\n",
    "\n",
    "for result in label_propagation_results:\n",
    "    print(result)\n"
   ]
  },
  {
   "cell_type": "markdown",
   "metadata": {},
   "source": [
    "Output Deutung: <br>\n",
    "Community ID = Gemeiscnaftszuordnung"
   ]
  },
  {
   "cell_type": "markdown",
   "metadata": {},
   "source": [
    "#### Übergabe an GPT"
   ]
  },
  {
   "cell_type": "code",
   "execution_count": 8,
   "metadata": {},
   "outputs": [
    {
     "name": "stdout",
     "output_type": "stream",
     "text": [
      "Based on the label_propagation algorithm, the nodes in the network have been assigned to different communities. Here are the nodes grouped by their respective communities:\n",
      "\n",
      "- A1 in community 6\n",
      "- A2 in community 6\n",
      "- A3 in community 6\n",
      "- A4 in community 6\n",
      "- A5 in community 6\n",
      "\n",
      "What patterns or insights can be observed from the community structure identified by the Louvain algorithm? How do these communities reflect the underlying relationships or dynamics within the network?\n",
      "GPT-3's Insights: An error occurred: You didn't provide an API key. You need to provide your API key in an Authorization header using Bearer auth (i.e. Authorization: Bearer YOUR_KEY), or as the password field (with blank username) if you're accessing the API from your browser and are prompted for a username and password. You can obtain an API key from https://platform.openai.com/account/api-keys.\n"
     ]
    }
   ],
   "source": [
    "prompt_intro = \"Based on the label_propagation algorithm, the nodes in the network have been assigned to different communities. Here are the nodes grouped by their respective communities:\\n\\n\"\n",
    "prompt_body = \"\\n\".join([f\"- {res['account']} in community {res['communityId']}\" for res in label_propagation_results[:10]])  # Top 10 \n",
    "prompt_topic = \"\\n\\nGiven that these communities may represent different clusters of entities within the network, it's important to analyze if any of these patterns indicate potential money laundering activities. The identification of suspicious patterns and the subsequent decision on whether they constitute money laundering activities require careful consideration of various factors, including transaction patterns, individuals involved, and community structures.\"\n",
    "prompt_question = \"\\n\\nWhat patterns or insights can be observed from the community structure identified by the Louvain algorithm? How do these communities reflect the underlying relationships or dynamics within the network?\"\n",
    "\n",
    "complete_prompt = prompt_intro + prompt_body + prompt_question\n",
    "\n",
    "print(complete_prompt)\n",
    "\n",
    "response = openai_wrapper.generate_chat_response(complete_prompt)\n",
    "print(f\"GPT-3's Insights: {response}\")"
   ]
  }
 ],
 "metadata": {
  "kernelspec": {
   "display_name": "myenv",
   "language": "python",
   "name": "python3"
  },
  "language_info": {
   "codemirror_mode": {
    "name": "ipython",
    "version": 3
   },
   "file_extension": ".py",
   "mimetype": "text/x-python",
   "name": "python",
   "nbconvert_exporter": "python",
   "pygments_lexer": "ipython3",
   "version": "3.8.18"
  }
 },
 "nbformat": 4,
 "nbformat_minor": 2
}
