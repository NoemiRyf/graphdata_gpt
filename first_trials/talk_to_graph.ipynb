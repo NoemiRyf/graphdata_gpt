{
 "cells": [
  {
   "cell_type": "markdown",
   "metadata": {},
   "source": [
    "# Talk to Graph"
   ]
  },
  {
   "cell_type": "code",
   "execution_count": 2,
   "metadata": {},
   "outputs": [],
   "source": [
    "from neo4j import GraphDatabase\n",
    "import openai\n",
    "import langchain\n",
    "import os"
   ]
  },
  {
   "cell_type": "markdown",
   "metadata": {},
   "source": [
    "## Connection to Neo4j"
   ]
  },
  {
   "cell_type": "code",
   "execution_count": 9,
   "metadata": {},
   "outputs": [],
   "source": [
    "# Verbindungsinformationen für Neo4j-Datenbank\n",
    "uri = \"bolt://localhost:7687\"  \n",
    "user = \"neo4j\"                  \n",
    "password = \"\"         \n",
    "\n",
    "# Verbindung zur Neo4j-Datenbank herstellen\n",
    "driver = GraphDatabase.driver(uri, auth=(user, password))\n"
   ]
  },
  {
   "cell_type": "code",
   "execution_count": 10,
   "metadata": {},
   "outputs": [
    {
     "name": "stdout",
     "output_type": "stream",
     "text": [
      "<Record node_count=20>\n"
     ]
    }
   ],
   "source": [
    "def execute_query(query):\n",
    "    with driver.session() as session:  \n",
    "        result = session.run(query)\n",
    "        for record in result:\n",
    "            print(record)  \n",
    "\n",
    "# Testabfrage, um alle Knoten zu zählen\n",
    "test_query = \"MATCH (n) RETURN COUNT(n) as node_count\"\n",
    "execute_query(test_query)"
   ]
  },
  {
   "cell_type": "markdown",
   "metadata": {},
   "source": [
    "## Graph Abfragen"
   ]
  },
  {
   "cell_type": "code",
   "execution_count": 85,
   "metadata": {},
   "outputs": [],
   "source": [
    "def get_transaction_between_persons(person_id4, person_id12):\n",
    "    with driver.session() as session:\n",
    "        result = session.run(\"\"\"\n",
    "        MATCH (p1:Person {id: $person_id4})-[:TRANSACTION]->(p2:Person {id: $person_id12})\n",
    "        RETURN count(*) > 0 as transaction_exists\n",
    "        \"\"\", person_id4=person_id4, person_id12=person_id12)\n",
    "        return result.single()[0]\n"
   ]
  },
  {
   "cell_type": "code",
   "execution_count": 75,
   "metadata": {},
   "outputs": [],
   "source": [
    "def get_most_connected_person():\n",
    "    with driver.session() as session:\n",
    "        result = session.run(\"\"\"\n",
    "        MATCH (p:Person)-[:TRANSACTION]-()\n",
    "        RETURN p.name AS person, count(*) AS connections\n",
    "        ORDER BY connections DESC\n",
    "        LIMIT 1\n",
    "        \"\"\")\n",
    "        return result.single()"
   ]
  },
  {
   "cell_type": "markdown",
   "metadata": {},
   "source": [
    "## Fragebeispiele"
   ]
  },
  {
   "cell_type": "code",
   "execution_count": 86,
   "metadata": {},
   "outputs": [
    {
     "name": "stdout",
     "output_type": "stream",
     "text": [
      "Transaction exists: True\n"
     ]
    }
   ],
   "source": [
    "# Fragebeispiel: Hat Person 4 mit Person 12 Transaktionen?\n",
    "transaction_exists = get_transaction_between_persons(4, 12)\n",
    "print(f\"Transaction exists: {transaction_exists}\")"
   ]
  },
  {
   "cell_type": "markdown",
   "metadata": {},
   "source": [
    "#### Fragebeispiel: Welche Person hat mit den meisten anderen Personen Transaktionen durchgeführt?"
   ]
  },
  {
   "cell_type": "code",
   "execution_count": 76,
   "metadata": {},
   "outputs": [
    {
     "name": "stdout",
     "output_type": "stream",
     "text": [
      "Most connected person: Isabella Hoffmann with 6 connections\n"
     ]
    }
   ],
   "source": [
    "# Fragebeispiel: Welche Person hat mit den meisten anderen Personen Transaktionen durchgeführt?\n",
    "most_connected_person = get_most_connected_person()\n",
    "print(f\"Most connected person: {most_connected_person['person']} with {most_connected_person['connections']} connections\")"
   ]
  },
  {
   "cell_type": "code",
   "execution_count": 63,
   "metadata": {},
   "outputs": [
    {
     "name": "stdout",
     "output_type": "stream",
     "text": [
      "Es gibt 1 Transaktion(en) zwischen Person 1 und Person 9.\n",
      "Transaktion: <Relationship element_id='5:7e939ad8-f72d-4ca3-b7e8-1d104406237e:8' nodes=(<Node element_id='4:7e939ad8-f72d-4ca3-b7e8-1d104406237e:40' labels=frozenset() properties={}>, <Node element_id='4:7e939ad8-f72d-4ca3-b7e8-1d104406237e:6' labels=frozenset() properties={}>) type='TRANSACTION' properties={'amount': 8455.0, 'currency': 'GBP'}>\n"
     ]
    }
   ],
   "source": [
    "def find_transactions(person_id1, person_id2):\n",
    "    with driver.session() as session:\n",
    "        query = \"\"\"\n",
    "        MATCH (p1:Person)-[t:TRANSACTION]->(p2:Person)\n",
    "        WHERE p1.id = $person_id1 AND p2.id = $person_id2\n",
    "        RETURN t\n",
    "        \"\"\"\n",
    "        result = session.run(query, person_id1=person_id1, person_id2=person_id2)\n",
    "        return [record[\"t\"] for record in result]\n",
    "\n",
    "transactions = find_transactions(1, 9)\n",
    "\n",
    "if transactions:\n",
    "    print(f\"Es gibt {len(transactions)} Transaktion(en) zwischen Person 1 und Person 9.\")\n",
    "    for transaction in transactions:\n",
    "        print(f\"Transaktion: {transaction}\")\n",
    "else:\n",
    "    print(\"Es gibt keine Transaktionen zwischen Person 1 und Person 9.\")"
   ]
  },
  {
   "cell_type": "markdown",
   "metadata": {},
   "source": [
    "## OpenAI und LangChain integrieren"
   ]
  },
  {
   "cell_type": "code",
   "execution_count": 3,
   "metadata": {},
   "outputs": [],
   "source": [
    "openai.api_key = os.getenv(\"OPENAI_API_KEY\", \"\")"
   ]
  },
  {
   "cell_type": "code",
   "execution_count": 5,
   "metadata": {},
   "outputs": [
    {
     "ename": "RateLimitError",
     "evalue": "You exceeded your current quota, please check your plan and billing details. For more information on this error, read the docs: https://platform.openai.com/docs/guides/error-codes/api-errors.",
     "output_type": "error",
     "traceback": [
      "\u001b[1;31m---------------------------------------------------------------------------\u001b[0m",
      "\u001b[1;31mRateLimitError\u001b[0m                            Traceback (most recent call last)",
      "Cell \u001b[1;32mIn[5], line 22\u001b[0m\n\u001b[0;32m     19\u001b[0m openai_wrapper \u001b[38;5;241m=\u001b[39m MyOpenAIWrapper(api_key\u001b[38;5;241m=\u001b[39mapi_key)\n\u001b[0;32m     21\u001b[0m prompt \u001b[38;5;241m=\u001b[39m \u001b[38;5;124m\"\u001b[39m\u001b[38;5;124mWhat are the main benefits of using LangChain?\u001b[39m\u001b[38;5;124m\"\u001b[39m\n\u001b[1;32m---> 22\u001b[0m response \u001b[38;5;241m=\u001b[39m \u001b[43mopenai_wrapper\u001b[49m\u001b[38;5;241;43m.\u001b[39;49m\u001b[43mgenerate\u001b[49m\u001b[43m(\u001b[49m\u001b[43mprompt\u001b[49m\u001b[43m)\u001b[49m\n\u001b[0;32m     23\u001b[0m \u001b[38;5;28mprint\u001b[39m(response)\n",
      "Cell \u001b[1;32mIn[5], line 9\u001b[0m, in \u001b[0;36mMyOpenAIWrapper.generate\u001b[1;34m(self, prompt, model)\u001b[0m\n\u001b[0;32m      8\u001b[0m \u001b[38;5;28;01mdef\u001b[39;00m \u001b[38;5;21mgenerate\u001b[39m(\u001b[38;5;28mself\u001b[39m, prompt, model\u001b[38;5;241m=\u001b[39m\u001b[38;5;124m\"\u001b[39m\u001b[38;5;124mgpt-3.5-turbo\u001b[39m\u001b[38;5;124m\"\u001b[39m):\n\u001b[1;32m----> 9\u001b[0m     response \u001b[38;5;241m=\u001b[39m \u001b[43mopenai\u001b[49m\u001b[38;5;241;43m.\u001b[39;49m\u001b[43mChatCompletion\u001b[49m\u001b[38;5;241;43m.\u001b[39;49m\u001b[43mcreate\u001b[49m\u001b[43m(\u001b[49m\n\u001b[0;32m     10\u001b[0m \u001b[43m        \u001b[49m\u001b[43mmodel\u001b[49m\u001b[38;5;241;43m=\u001b[39;49m\u001b[43mmodel\u001b[49m\u001b[43m,\u001b[49m\n\u001b[0;32m     11\u001b[0m \u001b[43m        \u001b[49m\u001b[43mmessages\u001b[49m\u001b[38;5;241;43m=\u001b[39;49m\u001b[43m[\u001b[49m\n\u001b[0;32m     12\u001b[0m \u001b[43m            \u001b[49m\u001b[43m{\u001b[49m\u001b[38;5;124;43m\"\u001b[39;49m\u001b[38;5;124;43mrole\u001b[39;49m\u001b[38;5;124;43m\"\u001b[39;49m\u001b[43m:\u001b[49m\u001b[43m \u001b[49m\u001b[38;5;124;43m\"\u001b[39;49m\u001b[38;5;124;43msystem\u001b[39;49m\u001b[38;5;124;43m\"\u001b[39;49m\u001b[43m,\u001b[49m\u001b[43m \u001b[49m\u001b[38;5;124;43m\"\u001b[39;49m\u001b[38;5;124;43mcontent\u001b[39;49m\u001b[38;5;124;43m\"\u001b[39;49m\u001b[43m:\u001b[49m\u001b[43m \u001b[49m\u001b[38;5;124;43m\"\u001b[39;49m\u001b[38;5;124;43mYou are a helpful assistant.\u001b[39;49m\u001b[38;5;124;43m\"\u001b[39;49m\u001b[43m}\u001b[49m\u001b[43m,\u001b[49m\n\u001b[0;32m     13\u001b[0m \u001b[43m            \u001b[49m\u001b[43m{\u001b[49m\u001b[38;5;124;43m\"\u001b[39;49m\u001b[38;5;124;43mrole\u001b[39;49m\u001b[38;5;124;43m\"\u001b[39;49m\u001b[43m:\u001b[49m\u001b[43m \u001b[49m\u001b[38;5;124;43m\"\u001b[39;49m\u001b[38;5;124;43muser\u001b[39;49m\u001b[38;5;124;43m\"\u001b[39;49m\u001b[43m,\u001b[49m\u001b[43m \u001b[49m\u001b[38;5;124;43m\"\u001b[39;49m\u001b[38;5;124;43mcontent\u001b[39;49m\u001b[38;5;124;43m\"\u001b[39;49m\u001b[43m:\u001b[49m\u001b[43m \u001b[49m\u001b[43mprompt\u001b[49m\u001b[43m}\u001b[49m\n\u001b[0;32m     14\u001b[0m \u001b[43m        \u001b[49m\u001b[43m]\u001b[49m\n\u001b[0;32m     15\u001b[0m \u001b[43m    \u001b[49m\u001b[43m)\u001b[49m\n\u001b[0;32m     16\u001b[0m     \u001b[38;5;28;01mreturn\u001b[39;00m response[\u001b[38;5;124m'\u001b[39m\u001b[38;5;124mchoices\u001b[39m\u001b[38;5;124m'\u001b[39m][\u001b[38;5;241m0\u001b[39m][\u001b[38;5;124m'\u001b[39m\u001b[38;5;124mmessage\u001b[39m\u001b[38;5;124m'\u001b[39m][\u001b[38;5;124m'\u001b[39m\u001b[38;5;124mcontent\u001b[39m\u001b[38;5;124m'\u001b[39m]\n",
      "File \u001b[1;32mc:\\Users\\Noemi\\anaconda3\\envs\\myenv\\lib\\site-packages\\openai\\api_resources\\chat_completion.py:25\u001b[0m, in \u001b[0;36mChatCompletion.create\u001b[1;34m(cls, *args, **kwargs)\u001b[0m\n\u001b[0;32m     23\u001b[0m \u001b[38;5;28;01mwhile\u001b[39;00m \u001b[38;5;28;01mTrue\u001b[39;00m:\n\u001b[0;32m     24\u001b[0m     \u001b[38;5;28;01mtry\u001b[39;00m:\n\u001b[1;32m---> 25\u001b[0m         \u001b[38;5;28;01mreturn\u001b[39;00m \u001b[38;5;28;43msuper\u001b[39;49m\u001b[43m(\u001b[49m\u001b[43m)\u001b[49m\u001b[38;5;241;43m.\u001b[39;49m\u001b[43mcreate\u001b[49m\u001b[43m(\u001b[49m\u001b[38;5;241;43m*\u001b[39;49m\u001b[43margs\u001b[49m\u001b[43m,\u001b[49m\u001b[43m \u001b[49m\u001b[38;5;241;43m*\u001b[39;49m\u001b[38;5;241;43m*\u001b[39;49m\u001b[43mkwargs\u001b[49m\u001b[43m)\u001b[49m\n\u001b[0;32m     26\u001b[0m     \u001b[38;5;28;01mexcept\u001b[39;00m TryAgain \u001b[38;5;28;01mas\u001b[39;00m e:\n\u001b[0;32m     27\u001b[0m         \u001b[38;5;28;01mif\u001b[39;00m timeout \u001b[38;5;129;01mis\u001b[39;00m \u001b[38;5;129;01mnot\u001b[39;00m \u001b[38;5;28;01mNone\u001b[39;00m \u001b[38;5;129;01mand\u001b[39;00m time\u001b[38;5;241m.\u001b[39mtime() \u001b[38;5;241m>\u001b[39m start \u001b[38;5;241m+\u001b[39m timeout:\n",
      "File \u001b[1;32mc:\\Users\\Noemi\\anaconda3\\envs\\myenv\\lib\\site-packages\\openai\\api_resources\\abstract\\engine_api_resource.py:153\u001b[0m, in \u001b[0;36mEngineAPIResource.create\u001b[1;34m(cls, api_key, api_base, api_type, request_id, api_version, organization, **params)\u001b[0m\n\u001b[0;32m    127\u001b[0m \u001b[38;5;129m@classmethod\u001b[39m\n\u001b[0;32m    128\u001b[0m \u001b[38;5;28;01mdef\u001b[39;00m \u001b[38;5;21mcreate\u001b[39m(\n\u001b[0;32m    129\u001b[0m     \u001b[38;5;28mcls\u001b[39m,\n\u001b[1;32m   (...)\u001b[0m\n\u001b[0;32m    136\u001b[0m     \u001b[38;5;241m*\u001b[39m\u001b[38;5;241m*\u001b[39mparams,\n\u001b[0;32m    137\u001b[0m ):\n\u001b[0;32m    138\u001b[0m     (\n\u001b[0;32m    139\u001b[0m         deployment_id,\n\u001b[0;32m    140\u001b[0m         engine,\n\u001b[1;32m   (...)\u001b[0m\n\u001b[0;32m    150\u001b[0m         api_key, api_base, api_type, api_version, organization, \u001b[38;5;241m*\u001b[39m\u001b[38;5;241m*\u001b[39mparams\n\u001b[0;32m    151\u001b[0m     )\n\u001b[1;32m--> 153\u001b[0m     response, _, api_key \u001b[38;5;241m=\u001b[39m \u001b[43mrequestor\u001b[49m\u001b[38;5;241;43m.\u001b[39;49m\u001b[43mrequest\u001b[49m\u001b[43m(\u001b[49m\n\u001b[0;32m    154\u001b[0m \u001b[43m        \u001b[49m\u001b[38;5;124;43m\"\u001b[39;49m\u001b[38;5;124;43mpost\u001b[39;49m\u001b[38;5;124;43m\"\u001b[39;49m\u001b[43m,\u001b[49m\n\u001b[0;32m    155\u001b[0m \u001b[43m        \u001b[49m\u001b[43murl\u001b[49m\u001b[43m,\u001b[49m\n\u001b[0;32m    156\u001b[0m \u001b[43m        \u001b[49m\u001b[43mparams\u001b[49m\u001b[38;5;241;43m=\u001b[39;49m\u001b[43mparams\u001b[49m\u001b[43m,\u001b[49m\n\u001b[0;32m    157\u001b[0m \u001b[43m        \u001b[49m\u001b[43mheaders\u001b[49m\u001b[38;5;241;43m=\u001b[39;49m\u001b[43mheaders\u001b[49m\u001b[43m,\u001b[49m\n\u001b[0;32m    158\u001b[0m \u001b[43m        \u001b[49m\u001b[43mstream\u001b[49m\u001b[38;5;241;43m=\u001b[39;49m\u001b[43mstream\u001b[49m\u001b[43m,\u001b[49m\n\u001b[0;32m    159\u001b[0m \u001b[43m        \u001b[49m\u001b[43mrequest_id\u001b[49m\u001b[38;5;241;43m=\u001b[39;49m\u001b[43mrequest_id\u001b[49m\u001b[43m,\u001b[49m\n\u001b[0;32m    160\u001b[0m \u001b[43m        \u001b[49m\u001b[43mrequest_timeout\u001b[49m\u001b[38;5;241;43m=\u001b[39;49m\u001b[43mrequest_timeout\u001b[49m\u001b[43m,\u001b[49m\n\u001b[0;32m    161\u001b[0m \u001b[43m    \u001b[49m\u001b[43m)\u001b[49m\n\u001b[0;32m    163\u001b[0m     \u001b[38;5;28;01mif\u001b[39;00m stream:\n\u001b[0;32m    164\u001b[0m         \u001b[38;5;66;03m# must be an iterator\u001b[39;00m\n\u001b[0;32m    165\u001b[0m         \u001b[38;5;28;01massert\u001b[39;00m \u001b[38;5;129;01mnot\u001b[39;00m \u001b[38;5;28misinstance\u001b[39m(response, OpenAIResponse)\n",
      "File \u001b[1;32mc:\\Users\\Noemi\\anaconda3\\envs\\myenv\\lib\\site-packages\\openai\\api_requestor.py:298\u001b[0m, in \u001b[0;36mAPIRequestor.request\u001b[1;34m(self, method, url, params, headers, files, stream, request_id, request_timeout)\u001b[0m\n\u001b[0;32m    277\u001b[0m \u001b[38;5;28;01mdef\u001b[39;00m \u001b[38;5;21mrequest\u001b[39m(\n\u001b[0;32m    278\u001b[0m     \u001b[38;5;28mself\u001b[39m,\n\u001b[0;32m    279\u001b[0m     method,\n\u001b[1;32m   (...)\u001b[0m\n\u001b[0;32m    286\u001b[0m     request_timeout: Optional[Union[\u001b[38;5;28mfloat\u001b[39m, Tuple[\u001b[38;5;28mfloat\u001b[39m, \u001b[38;5;28mfloat\u001b[39m]]] \u001b[38;5;241m=\u001b[39m \u001b[38;5;28;01mNone\u001b[39;00m,\n\u001b[0;32m    287\u001b[0m ) \u001b[38;5;241m-\u001b[39m\u001b[38;5;241m>\u001b[39m Tuple[Union[OpenAIResponse, Iterator[OpenAIResponse]], \u001b[38;5;28mbool\u001b[39m, \u001b[38;5;28mstr\u001b[39m]:\n\u001b[0;32m    288\u001b[0m     result \u001b[38;5;241m=\u001b[39m \u001b[38;5;28mself\u001b[39m\u001b[38;5;241m.\u001b[39mrequest_raw(\n\u001b[0;32m    289\u001b[0m         method\u001b[38;5;241m.\u001b[39mlower(),\n\u001b[0;32m    290\u001b[0m         url,\n\u001b[1;32m   (...)\u001b[0m\n\u001b[0;32m    296\u001b[0m         request_timeout\u001b[38;5;241m=\u001b[39mrequest_timeout,\n\u001b[0;32m    297\u001b[0m     )\n\u001b[1;32m--> 298\u001b[0m     resp, got_stream \u001b[38;5;241m=\u001b[39m \u001b[38;5;28;43mself\u001b[39;49m\u001b[38;5;241;43m.\u001b[39;49m\u001b[43m_interpret_response\u001b[49m\u001b[43m(\u001b[49m\u001b[43mresult\u001b[49m\u001b[43m,\u001b[49m\u001b[43m \u001b[49m\u001b[43mstream\u001b[49m\u001b[43m)\u001b[49m\n\u001b[0;32m    299\u001b[0m     \u001b[38;5;28;01mreturn\u001b[39;00m resp, got_stream, \u001b[38;5;28mself\u001b[39m\u001b[38;5;241m.\u001b[39mapi_key\n",
      "File \u001b[1;32mc:\\Users\\Noemi\\anaconda3\\envs\\myenv\\lib\\site-packages\\openai\\api_requestor.py:700\u001b[0m, in \u001b[0;36mAPIRequestor._interpret_response\u001b[1;34m(self, result, stream)\u001b[0m\n\u001b[0;32m    692\u001b[0m     \u001b[38;5;28;01mreturn\u001b[39;00m (\n\u001b[0;32m    693\u001b[0m         \u001b[38;5;28mself\u001b[39m\u001b[38;5;241m.\u001b[39m_interpret_response_line(\n\u001b[0;32m    694\u001b[0m             line, result\u001b[38;5;241m.\u001b[39mstatus_code, result\u001b[38;5;241m.\u001b[39mheaders, stream\u001b[38;5;241m=\u001b[39m\u001b[38;5;28;01mTrue\u001b[39;00m\n\u001b[0;32m    695\u001b[0m         )\n\u001b[0;32m    696\u001b[0m         \u001b[38;5;28;01mfor\u001b[39;00m line \u001b[38;5;129;01min\u001b[39;00m parse_stream(result\u001b[38;5;241m.\u001b[39miter_lines())\n\u001b[0;32m    697\u001b[0m     ), \u001b[38;5;28;01mTrue\u001b[39;00m\n\u001b[0;32m    698\u001b[0m \u001b[38;5;28;01melse\u001b[39;00m:\n\u001b[0;32m    699\u001b[0m     \u001b[38;5;28;01mreturn\u001b[39;00m (\n\u001b[1;32m--> 700\u001b[0m         \u001b[38;5;28;43mself\u001b[39;49m\u001b[38;5;241;43m.\u001b[39;49m\u001b[43m_interpret_response_line\u001b[49m\u001b[43m(\u001b[49m\n\u001b[0;32m    701\u001b[0m \u001b[43m            \u001b[49m\u001b[43mresult\u001b[49m\u001b[38;5;241;43m.\u001b[39;49m\u001b[43mcontent\u001b[49m\u001b[38;5;241;43m.\u001b[39;49m\u001b[43mdecode\u001b[49m\u001b[43m(\u001b[49m\u001b[38;5;124;43m\"\u001b[39;49m\u001b[38;5;124;43mutf-8\u001b[39;49m\u001b[38;5;124;43m\"\u001b[39;49m\u001b[43m)\u001b[49m\u001b[43m,\u001b[49m\n\u001b[0;32m    702\u001b[0m \u001b[43m            \u001b[49m\u001b[43mresult\u001b[49m\u001b[38;5;241;43m.\u001b[39;49m\u001b[43mstatus_code\u001b[49m\u001b[43m,\u001b[49m\n\u001b[0;32m    703\u001b[0m \u001b[43m            \u001b[49m\u001b[43mresult\u001b[49m\u001b[38;5;241;43m.\u001b[39;49m\u001b[43mheaders\u001b[49m\u001b[43m,\u001b[49m\n\u001b[0;32m    704\u001b[0m \u001b[43m            \u001b[49m\u001b[43mstream\u001b[49m\u001b[38;5;241;43m=\u001b[39;49m\u001b[38;5;28;43;01mFalse\u001b[39;49;00m\u001b[43m,\u001b[49m\n\u001b[0;32m    705\u001b[0m \u001b[43m        \u001b[49m\u001b[43m)\u001b[49m,\n\u001b[0;32m    706\u001b[0m         \u001b[38;5;28;01mFalse\u001b[39;00m,\n\u001b[0;32m    707\u001b[0m     )\n",
      "File \u001b[1;32mc:\\Users\\Noemi\\anaconda3\\envs\\myenv\\lib\\site-packages\\openai\\api_requestor.py:765\u001b[0m, in \u001b[0;36mAPIRequestor._interpret_response_line\u001b[1;34m(self, rbody, rcode, rheaders, stream)\u001b[0m\n\u001b[0;32m    763\u001b[0m stream_error \u001b[38;5;241m=\u001b[39m stream \u001b[38;5;129;01mand\u001b[39;00m \u001b[38;5;124m\"\u001b[39m\u001b[38;5;124merror\u001b[39m\u001b[38;5;124m\"\u001b[39m \u001b[38;5;129;01min\u001b[39;00m resp\u001b[38;5;241m.\u001b[39mdata\n\u001b[0;32m    764\u001b[0m \u001b[38;5;28;01mif\u001b[39;00m stream_error \u001b[38;5;129;01mor\u001b[39;00m \u001b[38;5;129;01mnot\u001b[39;00m \u001b[38;5;241m200\u001b[39m \u001b[38;5;241m<\u001b[39m\u001b[38;5;241m=\u001b[39m rcode \u001b[38;5;241m<\u001b[39m \u001b[38;5;241m300\u001b[39m:\n\u001b[1;32m--> 765\u001b[0m     \u001b[38;5;28;01mraise\u001b[39;00m \u001b[38;5;28mself\u001b[39m\u001b[38;5;241m.\u001b[39mhandle_error_response(\n\u001b[0;32m    766\u001b[0m         rbody, rcode, resp\u001b[38;5;241m.\u001b[39mdata, rheaders, stream_error\u001b[38;5;241m=\u001b[39mstream_error\n\u001b[0;32m    767\u001b[0m     )\n\u001b[0;32m    768\u001b[0m \u001b[38;5;28;01mreturn\u001b[39;00m resp\n",
      "\u001b[1;31mRateLimitError\u001b[0m: You exceeded your current quota, please check your plan and billing details. For more information on this error, read the docs: https://platform.openai.com/docs/guides/error-codes/api-errors."
     ]
    }
   ],
   "source": [
    "import openai\n",
    "\n",
    "class MyOpenAIWrapper:\n",
    "    def __init__(self, api_key):\n",
    "        self.api_key = api_key\n",
    "        openai.api_key = api_key\n",
    "\n",
    "    def generate(self, prompt, model=\"gpt-3.5-turbo\"):\n",
    "        response = openai.ChatCompletion.create(\n",
    "            model=model,\n",
    "            messages=[\n",
    "                {\"role\": \"system\", \"content\": \"You are a helpful assistant.\"},\n",
    "                {\"role\": \"user\", \"content\": prompt}\n",
    "            ]\n",
    "        )\n",
    "        return response['choices'][0]['message']['content']\n",
    "\n",
    "api_key = \"\"\n",
    "openai_wrapper = MyOpenAIWrapper(api_key=api_key)\n",
    "\n",
    "prompt = \"What are the main benefits of using LangChain?\"\n",
    "response = openai_wrapper.generate(prompt)\n",
    "print(response)\n"
   ]
  },
  {
   "cell_type": "code",
   "execution_count": 23,
   "metadata": {},
   "outputs": [
    {
     "name": "stdout",
     "output_type": "stream",
     "text": [
      "Um die Beziehungen von Person 1 zu erklären, benötige ich zusätzliche Informationen. Welche Beziehungen von Person 1 interessieren Sie? Sind Sie auf der Suche nach Informationen zu Freunden, Familie, Arbeitskollegen oder anderen Kontakten? Bitte geben Sie mir mehr Details, damit ich Ihnen besser weiterhelfen kann.\n"
     ]
    }
   ],
   "source": [
    "# Schritt 1: Neo4j-Daten abfragen\n",
    "person_id = 1  # Beispiel-ID\n",
    "query = \"MATCH (p:Person {id: $person_id})-->(r:Relationship) RETURN r\"\n",
    "with driver.session() as session:\n",
    "    result = session.run(query, person_id=person_id)\n",
    "    relationships = [record[\"r\"] for record in result]\n",
    "\n",
    "# Schritt 2: Abfrageergebnisse als Prompt vorbereiten\n",
    "prompt = f\"Erkläre die Beziehungen von Person {person_id}: \" + \", \".join([rel[\"name\"] for rel in relationships])\n",
    "\n",
    "# Schritt 3: LLM für die Generierung der Antwort nutzen\n",
    "response = openai_wrapper.generate(prompt)  # Angenommen, openai_wrapper ist bereits definiert\n",
    "\n",
    "# Schritt 4: Antwort verarbeiten und zurückgeben\n",
    "print(response)\n"
   ]
  },
  {
   "cell_type": "code",
   "execution_count": 65,
   "metadata": {},
   "outputs": [],
   "source": [
    "def get_relationship_info(person_id1, person_id2):\n",
    "    query = \"\"\"\n",
    "    MATCH (p1:Person {id: $person_id1})-[r:TRANSACTION]->(p2:Person {id: $person_id2})\n",
    "    RETURN r.amount as amount, r.currency as currency\n",
    "    \"\"\"\n",
    "    with driver.session() as session:\n",
    "        result = session.run(query, person_id1=person_id1, person_id2=person_id2)\n",
    "        for record in result:\n",
    "            # Angenommen, jede Transaktion hat einen Betrag und eine Währung\n",
    "            return {\"amount\": record[\"amount\"], \"currency\": record[\"currency\"]}\n",
    "    return None\n"
   ]
  },
  {
   "cell_type": "code",
   "execution_count": 67,
   "metadata": {},
   "outputs": [],
   "source": [
    "def create_prompt_for_llm(relationship_info):\n",
    "    if relationship_info:\n",
    "        prompt = f\"Explain the significance of a {relationship_info['amount']} {relationship_info['currency']} transaction between two individuals.\"\n",
    "    else:\n",
    "        prompt = \"There's no transaction between these individuals. Could you hypothesize reasons why two individuals might not have transactions?\"\n",
    "    return prompt\n"
   ]
  },
  {
   "cell_type": "code",
   "execution_count": 68,
   "metadata": {},
   "outputs": [
    {
     "name": "stdout",
     "output_type": "stream",
     "text": [
      "A transaction of 8455.0 GBP between two individuals could have various significances depending on the context of the transaction. Here are a few possibilities:\n",
      "\n",
      "1. It could be a payment for goods or services exchanged between the two individuals. The transaction amount of 8455.0 GBP could reflect the value of the items or services being exchanged.\n",
      "\n",
      "2. It could be a gift or a loan between the individuals. The specific amount of 8455.0 GBP may have been chosen for a particular reason or based on an agreement between the two individuals.\n",
      "\n",
      "3. It could be a regular payment, such as rent or a monthly allowance, that one individual owes to the other. The amount of 8455.0 GBP could indicate the agreed-upon payment for a specific period.\n",
      "\n",
      "4. It could also be a transferring of funds between family members or friends for personal reasons, such as helping out in times of need or for a celebration.\n",
      "\n",
      "Overall, the significance of the transaction would depend on the relationship and agreement between the two individuals involved.\n"
     ]
    }
   ],
   "source": [
    "response = openai_wrapper.generate(create_prompt_for_llm(get_relationship_info(1, 9)))\n",
    "print(response)"
   ]
  },
  {
   "cell_type": "code",
   "execution_count": 88,
   "metadata": {},
   "outputs": [
    {
     "name": "stdout",
     "output_type": "stream",
     "text": [
      "Transaction exists: True\n",
      "LLM Response: The implications of a transaction existing or not existing between individuals 4 and 12 can vary depending on the context of the transaction. Here are some potential implications:\n",
      "\n",
      "If a transaction exists between individuals 4 and 12:\n",
      "1. Economic implications: A transaction between individuals 4 and 12 could indicate that they are engaged in some form of economic exchange, such as buying and selling goods or services. This could impact their financial well-being and contribute to economic activity.\n",
      "\n",
      "2. Relationship implications: The presence of a transaction between individuals 4 and 12 may indicate a level of interaction and relationship between them. It could suggest that they have a mutual understanding or agreement that involves exchanging something of value.\n",
      "\n",
      "3. Legal implications: Depending on the nature of the transaction, there could be legal implications involved, such as contracts, obligations, and potential legal consequences if either party fails to fulfill their part of the transaction.\n",
      "\n",
      "If a transaction does not exist between individuals 4 and 12:\n",
      "1. Economic implications: The absence of a transaction could mean that there is no economic exchange or interaction between individuals 4 and 12. This may impact their financial well-being and limit opportunities for economic growth.\n",
      "\n",
      "2. Relationship implications: The lack of a transaction could suggest a lack of interaction or relationship between individuals 4 and 12. This could indicate a lack of engagement, communication, or shared interests between the two parties.\n",
      "\n",
      "3. Opportunity implications: The absence of a transaction could also mean missed opportunities for mutual benefit or collaboration between individuals 4 and 12. It may indicate a lack of engagement or connection that could potentially hinder their individual or collective growth.\n",
      "\n",
      "In conclusion, the presence or absence of a transaction between individuals 4 and 12 can have various implications for their economic, social, and legal circumstances. Understanding these implications can help in assessing the nature of their relationship and potential opportunities for collaboration or exchange.\n",
      "Most connected person: Person 8 with 4 connections\n",
      "LLM Response: The person with the most transactions within a network, in this case Person ID: 8 with 4 transactions, likely plays a key role. They may be considered a central figure within the network, as they are highly engaged and active in interacting with others. \n",
      "\n",
      "This individual might be a connector who helps bridge connections between different members of the network. They could also be a key influencer who impacts decisions and activities within the group. \n",
      "\n",
      "Overall, the person with the most transactions likely has a strong presence and influence within their network due to their frequent interactions and engagement with others.\n"
     ]
    }
   ],
   "source": [
    "from neo4j import GraphDatabase\n",
    "import openai\n",
    "\n",
    "class MyOpenAIWrapper:\n",
    "    def __init__(self, api_key):\n",
    "        self.api_key = api_key\n",
    "        openai.api_key = api_key\n",
    "\n",
    "    def generate(self, prompt, model=\"gpt-3.5-turbo\"):\n",
    "        response = openai.ChatCompletion.create(\n",
    "            model=model,\n",
    "            messages=[\n",
    "                {\"role\": \"system\", \"content\": \"You are a helpful assistant.\"},\n",
    "                {\"role\": \"user\", \"content\": prompt}\n",
    "            ]\n",
    "        )\n",
    "        return response['choices'][0]['message']['content']\n",
    "\n",
    "class Neo4jConnection:\n",
    "    def __init__(self, uri, user, password):\n",
    "        self.driver = GraphDatabase.driver(uri, auth=(user, password))\n",
    "\n",
    "    def close(self):\n",
    "        self.driver.close()\n",
    "\n",
    "    def query(self, query, parameters=None, db=None):\n",
    "        with self.driver.session(database=db) as session:\n",
    "            result = session.run(query, parameters)\n",
    "            return [record for record in result]\n",
    "\n",
    "# Initialisierung\n",
    "uri = \"bolt://localhost:7687\"\n",
    "user = \"neo4j\"\n",
    "password = \"\"\n",
    "neo4j_conn = Neo4jConnection(uri, user, password)\n",
    "api_key = \"\"\n",
    "openai_wrapper = MyOpenAIWrapper(api_key=api_key)\n",
    "\n",
    "# Beispiel 1: Prüfen, ob eine Transaktion zwischen zwei Personen besteht\n",
    "def check_transaction_between(person_id4, person_id12):\n",
    "    query = f\"\"\"\n",
    "    MATCH (p1:Person {{id: {person_id4}}})-[t:TRANSACTION]->(p2:Person {{id: {person_id12}}})\n",
    "    RETURN EXISTS((p1)-[t]->(p2)) AS transactionExists\n",
    "    \"\"\"\n",
    "    result = neo4j_conn.query(query)\n",
    "    exists = result[0][\"transactionExists\"]\n",
    "    prompt = f\"Discuss the implications of a transaction existing or not existing between two individuals, specifically between individuals {person_id4} and {person_id12}.\"\n",
    "    response = openai_wrapper.generate(prompt)\n",
    "    print(f\"Transaction exists: {exists}\")\n",
    "    print(f\"LLM Response: {response}\")\n",
    "\n",
    "# Beispiel 2: Identifizieren der Person mit den meisten Transaktionen\n",
    "def get_most_connected_person():\n",
    "    query = \"\"\"\n",
    "    MATCH (p:Person)-[t:TRANSACTION]->()\n",
    "    RETURN p.id AS personID, COUNT(t) AS numberOfTransactions\n",
    "    ORDER BY numberOfTransactions DESC\n",
    "    LIMIT 1\n",
    "    \"\"\"\n",
    "    result = neo4j_conn.query(query)\n",
    "    person_id, connections = result[0][\"personID\"], result[0][\"numberOfTransactions\"]\n",
    "    prompt = f\"What role might the person with the most transactions play within their network? Person ID: {person_id} has the highest number of transactions: {connections}.\"\n",
    "    response = openai_wrapper.generate(prompt)\n",
    "    print(f\"Most connected person: Person {person_id} with {connections} connections\")\n",
    "    print(f\"LLM Response: {response}\")\n",
    "\n",
    "# Führen Sie die Funktionen aus, um die Ergebnisse zu sehen\n",
    "check_transaction_between(4, 12)\n",
    "get_most_connected_person()\n",
    "\n",
    "# Vergessen Sie nicht, die Verbindung zu schließen, wenn Sie fertig sind\n",
    "neo4j_conn.close()\n"
   ]
  },
  {
   "cell_type": "code",
   "execution_count": 82,
   "metadata": {},
   "outputs": [
    {
     "name": "stdout",
     "output_type": "stream",
     "text": [
      "LLM Insight on Fraud Detection: Several patterns that might indicate fraudulent activity based on the provided example of a transaction amount of 100,000 at 03:45:00 on January 2, 2023, are as follows:\n",
      "\n",
      "1. Unusually high transaction amount: A transaction amount of 100,000 is significantly higher than typical transaction amounts for most individuals or businesses. Such a high amount could indicate potential fraud, especially if it is not in line with the customer's usual spending patterns.\n",
      "\n",
      "2. Unusual transaction timing: The transaction occurring at 03:45:00 indicates an unusual hour for a transaction. Fraudsters may choose to perform transactions during off-hours to avoid detection or to take advantage of lower monitoring activity during such times.\n",
      "\n",
      "3. Lack of prior history: If the transaction amount or timing is inconsistent with the customer's historical transaction data, it could be a red flag for potential fraud. A sudden spike in transaction amounts or activity without any previous pattern could indicate fraudulent behavior.\n",
      "\n",
      "4. Frequency of large transactions: Repeated occurrences of high-value transactions, especially during unusual hours, can be a sign of fraudulent activity. Fraudsters may conduct multiple transactions in quick succession to maximize their gains before detection.\n",
      "\n",
      "5. Lack of context: If there is no clear explanation for the high-value transaction or if it does not align with the customer's usual spending behavior, it raises suspicion for potential fraud. Understanding the context behind the transaction and verifying its legitimacy is crucial in identifying fraudulent activities.\n",
      "\n",
      "Overall, a combination of factors such as unusually high transaction amounts, unusual transaction timing, lack of historical context, and abnormal transaction patterns can indicate potential fraudulent activity that should be investigated further.\n"
     ]
    }
   ],
   "source": [
    "suspicious_transactions = [\n",
    "    {\"amount\": 100000, \"timestamp\": \"2023-01-02T03:45:00\", \"personID\": 4},\n",
    "    # Weitere verdächtige Transaktionen...\n",
    "]\n",
    "\n",
    "prompt = \"Given a series of transactions that occurred at unusual hours and involved unusually high amounts, what patterns might indicate fraudulent activity? Here are some examples: \" + \", \".join([f\"{t['amount']} at {t['timestamp']}\" for t in suspicious_transactions])\n",
    "\n",
    "response = openai_wrapper.generate(prompt)\n",
    "print(f\"LLM Insight on Fraud Detection: {response}\")\n"
   ]
  },
  {
   "cell_type": "code",
   "execution_count": 1,
   "metadata": {},
   "outputs": [
    {
     "name": "stdout",
     "output_type": "stream",
     "text": [
      "LLM Analysis for transaction 4 to 12: To determine if this transaction is potentially fraudulent, we need more information to understand the context. The transaction description \"from 4 to 12\" doesn't provide sufficient details to assess its legitimacy. \n",
      "\n",
      "Here are some additional questions to consider in evaluating the transaction:\n",
      "\n",
      "1. Who are parties involved in the transaction?\n",
      "2. What is the nature of the transaction (e.g., purchase, transfer, payment)?\n",
      "3. Is this a known or common transaction for the parties involved?\n",
      "4. Is the transaction amount typical for the parties involved?\n",
      "5. Are there any red flags or anomalies associated with the transaction?\n",
      "\n",
      "Without more information, it is challenging to definitively determine whether the transaction is fraudulent. It is recommended to investigate further and verify the details before drawing any conclusions.\n",
      "LLM Analysis for transaction None to None: To determine if this transaction could indicate fraudulent activity, we would need more information such as the sender and recipient details, the nature of the transaction, and any other relevant details. It's important to look for red flags such as unusual transaction amounts, unknown or suspicious senders or recipients, rapid or unexpected large transactions, transactions with high-risk countries, or transactions that deviate from the account holder's typical spending behavior.\n",
      "\n",
      "Without additional context, it is difficult to definitively conclude whether this transaction is fraudulent. If you have any specific details or concerns about this transaction, please provide more information for a more accurate analysis.\n",
      "LLM Analysis for transaction None to None: A transaction amount of 1,000,000.0 EUR is indeed quite high and could potentially indicate fraudulent activity. However, without more information such as the nature of the transaction, the parties involved, and the context of the transfer, it is difficult to definitively say if this transaction is fraudulent.\n",
      "\n",
      "Some red flags to consider for potential fraudulent activity include transactions to unknown or high-risk locations, unusual transaction amounts, sudden changes in frequency or volume of transactions, and transactions without proper supporting documentation.\n",
      "\n",
      "If you have additional details or concerns about this transaction, please provide them for a more detailed analysis.\n",
      "LLM Analysis for transaction None to None: To determine if the transaction of 50000.0 GBP could indicate fraudulent activity, we need more information such as the transaction details, the parties involved, the context of the transaction, and any other relevant factors. \n",
      "\n",
      "Generally, a large transaction amount like 50000.0 GBP could potentially be flagged for further review as it falls outside the usual spending patterns for most individuals. It could indicate potential fraud or money laundering if it is unexpected or unusual for the account holder.\n",
      "\n",
      "I recommend looking into the specific details of the transaction, verifying the identities of the parties involved, reviewing any past transaction history, and conducting further investigation if needed to assess the legitimacy of the transaction.\n",
      "LLM Analysis for transaction None to None: In order to determine if this transaction could indicate fraudulent activity, we would need more information such as the account details, transaction history, and any unusual behavior associated with the transaction.\n",
      "\n",
      "A large transaction amount on its own may not be indicative of fraudulent activity, as legitimate transactions can also involve large sums of money. However, some red flags for potential fraud could include transactions to unfamiliar or suspicious accounts, multiple transactions of a similar large amount within a short time period, or unusual patterns or changes in a customer's typical transaction behavior.\n",
      "\n",
      "Without further context, it is difficult to definitively determine if this specific 50000.0 GBP transaction is fraudulent. It would be advisable to investigate further by reviewing additional transaction details and reaching out to the account holder for verification if necessary.\n",
      "LLM Analysis for transaction None to None: To determine if the transaction could indicate fraudulent activity, we would need more information such as the nature of the transaction, the parties involved, and any other suspicious activity related to the transaction. Without more context, it is difficult to definitively say if this transaction is fraudulent.\n",
      "\n",
      "However, some red flags to watch out for in transactions that could potentially indicate fraud include:\n",
      "\n",
      "1. Unusual timing or location of the transaction.\n",
      "2. Unusual or unexplained changes in transaction patterns.\n",
      "3. Transactions that are significantly larger or smaller than usual.\n",
      "4. Transactions involving high-risk countries or individuals.\n",
      "5. Any behavior that deviates from typical customer behavior.\n",
      "\n",
      "It is important to conduct further investigation and analysis to determine if this transaction is indeed fraudulent.\n",
      "LLM Analysis for person 8: To determine if there is potential fraudulent behavior in Person 8's transactions, I would need to review the details of each transaction including the amount, frequency, location, type of purchase, and any other relevant information. \n",
      "\n",
      "Based on the information provided, I can offer some general red flags that could indicate potential fraudulent behavior:\n",
      "\n",
      "1. Unusual spending patterns: If Person 8 suddenly starts making significantly larger purchases or an excessive number of transactions that are out of the ordinary, it could be a red flag for fraudulent activity.\n",
      "\n",
      "2. Multiple transactions in a short timeframe: If Person 8 is making multiple transactions within a short period, especially if they are for high-dollar amounts, this could be a sign of potential fraud.\n",
      "\n",
      "3. Transactions in different locations: If transactions are occurring in different locations that are not typical for Person 8, it could be a sign that someone else is using their account or card information.\n",
      "\n",
      "4. Suspicious vendor names: Check if the transactions are with vendors that are known for fraudulent activity or have a history of fraud complaints.\n",
      "\n",
      "It is important to investigate further and gather more information before making any conclusions about potential fraudulent behavior.\n",
      "LLM Analysis for person 9: To determine if there is any potential fraudulent behavior in Person 9's transactions, we need to analyze the following factors:\n",
      "\n",
      "1. Transaction Frequency: Are the number of transactions unusually high for Person 9?\n",
      "\n",
      "2. Transaction Amount: Are the amounts of the transactions abnormally large or small compared to their typical spending patterns?\n",
      "\n",
      "3. Transaction Location: Are the transactions occurring in different locations within a short period of time, indicating possible unauthorized use of the account?\n",
      "\n",
      "4. Transaction Type: Are there any unusual transaction types, such as cash withdrawals or purchases in high-risk categories?\n",
      "\n",
      "By analyzing these factors for Person 9's 4 transactions, we can assess whether there are any red flags that may indicate potential fraudulent behavior.\n",
      "LLM Analysis for person None: To analyze for potential fraudulent behavior, we need to look for any unusual patterns or red flags in the transactions conducted by Person None. Here are some common indicators of fraudulent behavior that we should look out for:\n",
      "\n",
      "1. Unusual transaction frequency: If Person None is conducting transactions at an abnormally high rate, it could be a sign of fraudulent activity. For example, if they are making multiple transactions within a short period of time.\n",
      "\n",
      "2. Large transactions: Transactions that are significantly larger than their usual spending patterns could indicate potential fraud. This could suggest that someone else is using their account to make unauthorized purchases.\n",
      "\n",
      "3. Transactions in unusual locations: If transactions are being made from locations that are not consistent with Person None's usual spending habits, it could be a red flag for fraud. For example, if transactions are being made from a different country or state.\n",
      "\n",
      "4. Transactions at odd hours: Transactions made at odd hours when Person None would not normally be active could be a sign of fraudulent activity. For example, if transactions are made in the middle of the night when Person None is usually asleep.\n",
      "\n",
      "5. Multiple failed transactions: If there are multiple failed transactions in a short period of time, it could indicate that someone is attempting to make unauthorized transactions using Person None's account.\n",
      "\n",
      "By analyzing these factors and looking for any unusual patterns or inconsistencies in the transactions conducted by Person None, we can assess the likelihood of potential fraudulent behavior.\n",
      "LLM Analysis for person None: To analyze for potential fraudulent behavior, we need to look for any unusual patterns or red flags in the 6 transactions conducted by Person None. Here are some common indicators of potential fraud:\n",
      "\n",
      "1. Unusual timing or frequency of transactions: If Person None has suddenly started conducting a much higher number of transactions than usual or if the transactions are occurring at odd times, it could be a red flag.\n",
      "\n",
      "2. Large transactions or unusual transaction amounts: Transactions that are significantly larger or smaller than the typical transaction amounts for this individual may indicate potential fraud.\n",
      "\n",
      "3. Sudden changes in spending behavior: If there is a sudden change in the types of transactions being made or in the spending patterns of Person None, it could be a cause for concern.\n",
      "\n",
      "4. Transactions from unusual locations or IP addresses: If the transactions are coming from locations that are not typically associated with Person None or from unfamiliar IP addresses, it could be a sign of fraudulent activity.\n",
      "\n",
      "5. Multiple transactions involving the same merchant: If Person None is conducting multiple transactions with the same merchant, especially if it is an unfamiliar or unverified merchant, it could be suspicious.\n",
      "\n",
      "6. Transactions involving high-risk categories: Transactions in high-risk categories such as online gambling, adult entertainment, or cryptocurrency may also indicate potential fraudulent behavior.\n",
      "\n",
      "By analyzing these factors and comparing them to the transactions conducted by Person None, we can determine if there is any potential fraudulent behavior that warrants further investigation.\n",
      "LLM Analysis for person None: To analyze for potential fraudulent behavior, we need to look for any unusual patterns or red flags in the transactions conducted by Person None. Here are some factors we should consider:\n",
      "\n",
      "1. Frequency and Timing: Check if the transactions were made in quick succession or at odd hours, which could indicate that the individual is trying to bypass detection systems by making multiple transactions rapidly.\n",
      "\n",
      "2. Unusual Locations: Look for transactions made from locations that are not typical for the account holder. This could indicate that the account has been compromised or that the individual is trying to hide their identity.\n",
      "\n",
      "3. Large Transactions: Check for any unusually large transactions that are out of line with the individual's typical spending behavior. Large transactions could be a red flag for potential fraud.\n",
      "\n",
      "4. Multiple Failed Login Attempts: If there are multiple failed login attempts before the successful transactions, it could indicate that someone is trying to gain unauthorized access to the account.\n",
      "\n",
      "5. Inconsistent IP Addresses: Look for transactions made from different IP addresses, especially if they are from locations far apart. This could indicate that the account has been accessed by someone other than the account holder.\n",
      "\n",
      "By analyzing these factors in the transactions conducted by Person None, we can better assess the potential for fraudulent behavior and take appropriate action if necessary.\n",
      "LLM Analysis for person None: To analyze for potential fraudulent behavior, we would need more details about the 5 transactions conducted by Person None. Specifically, we would need information such as the nature of the transactions, the amounts involved, the frequency of transactions, the source of funds, and any other relevant details. \n",
      "\n",
      "Without this information, it is difficult to determine if there are any red flags or suspicious patterns that could indicate fraudulent behavior. If you provide more details about the transactions, I can help you further analyze them for potential fraud.\n"
     ]
    }
   ],
   "source": [
    "from neo4j import GraphDatabase\n",
    "\n",
    "class Neo4jConnection:\n",
    "    def __init__(self, uri, user, password):\n",
    "        self.driver = GraphDatabase.driver(uri, auth=(user, password))\n",
    "\n",
    "    def find_large_transactions(self):\n",
    "        query = \"\"\"\n",
    "        MATCH (p4:Person)-[t:TRANSACTION]->(p12:Person)\n",
    "        WHERE t.amount > 10000\n",
    "        RETURN p4.id AS from, p12.id AS to, t.amount AS amount, t.currency AS currency\n",
    "        \"\"\"\n",
    "        transactions = []\n",
    "        with self.driver.session() as session:\n",
    "            result = session.run(query)\n",
    "            for record in result:\n",
    "                transactions.append({\n",
    "                    \"from\": record[\"from\"],\n",
    "                    \"to\": record[\"to\"],\n",
    "                    \"amount\": record[\"amount\"],\n",
    "                    \"currency\": record[\"currency\"]\n",
    "                })\n",
    "        return transactions\n",
    "\n",
    "    def find_users_with_multiple_transactions(self):\n",
    "        query = \"\"\"\n",
    "        MATCH (p:Person)-[t:TRANSACTION]->()\n",
    "        WITH p, count(t) AS transactions\n",
    "        WHERE transactions > 3\n",
    "        RETURN p.id AS personID, transactions\n",
    "        \"\"\"\n",
    "        users = []\n",
    "        with self.driver.session() as session:\n",
    "            result = session.run(query)\n",
    "            for record in result:\n",
    "                users.append({\n",
    "                    \"personID\": record[\"personID\"],\n",
    "                    \"transactions\": record[\"transactions\"]\n",
    "                })\n",
    "        return users\n",
    "    \n",
    "\n",
    "\n",
    "class MyOpenAIWrapper:\n",
    "    def __init__(self, api_key):\n",
    "        self.api_key = api_key\n",
    "\n",
    "    def generate(self, prompt, model=\"gpt-3.5-turbo\"):\n",
    "        import openai\n",
    "        openai.api_key = self.api_key\n",
    "        try:\n",
    "            response = openai.ChatCompletion.create(\n",
    "                model=model,\n",
    "                messages=[{\"role\": \"system\", \"content\": \"You are a helpful assistant analyzing transactions for potential fraud.\"},\n",
    "                          {\"role\": \"user\", \"content\": prompt}]\n",
    "            )\n",
    "            return response.choices[0].message['content']  \n",
    "        except Exception as e:\n",
    "            print(f\"Error: {e}\")\n",
    "            return \"An error occurred while generating the response.\"\n",
    "\n",
    "# Initialize Neo4j and OpenAI connections\n",
    "neo4j_conn = Neo4jConnection(\"bolt://localhost:7687\", \"neo4j\", \"\")\n",
    "openai_wrapper = MyOpenAIWrapper(api_key=\"\")\n",
    "\n",
    "# Find suspicious transactions and analyze them with LLM\n",
    "large_transactions = neo4j_conn.find_large_transactions()\n",
    "for transaction in large_transactions:\n",
    "    prompt = f\"Analyze the transaction from {transaction['from']} to {transaction['to']} with amount {transaction['amount']} {transaction['currency']}. Could this indicate fraudulent activity?\"\n",
    "    response = openai_wrapper.generate(prompt)\n",
    "    print(f\"LLM Analysis for transaction {transaction['from']} to {transaction['to']}: {response}\")\n",
    "\n",
    "# Find users with multiple transactions and analyze potential fraud\n",
    "users_with_multiple_transactions = neo4j_conn.find_users_with_multiple_transactions()\n",
    "for user in users_with_multiple_transactions:\n",
    "    prompt = f\"Person {user['personID']} has conducted {user['transactions']} transactions. Analyze for potential fraudulent behavior.\"\n",
    "    response = openai_wrapper.generate(prompt)\n",
    "    print(f\"LLM Analysis for person {user['personID']}: {response}\")\n",
    "\n",
    "\n"
   ]
  },
  {
   "cell_type": "markdown",
   "metadata": {},
   "source": [
    "## Neo4j Algorithmen für Übergabe an GPT"
   ]
  },
  {
   "cell_type": "code",
   "execution_count": 20,
   "metadata": {},
   "outputs": [
    {
     "name": "stdout",
     "output_type": "stream",
     "text": [
      "43\n"
     ]
    },
    {
     "name": "stderr",
     "output_type": "stream",
     "text": [
      "Failed to write data to connection IPv4Address(('localhost', 7687)) (ResolvedIPv4Address(('127.0.0.1', 7687)))\n",
      "Failed to write data to connection IPv4Address(('localhost', 7687)) (ResolvedIPv4Address(('127.0.0.1', 7687)))\n"
     ]
    },
    {
     "name": "stdout",
     "output_type": "stream",
     "text": [
      "Error: You exceeded your current quota, please check your plan and billing details. For more information on this error, read the docs: https://platform.openai.com/docs/guides/error-codes/api-errors.\n",
      "LLM Analysis: An error occurred while generating the response.\n"
     ]
    }
   ],
   "source": [
    "from neo4j import GraphDatabase\n",
    "\n",
    "class Neo4jConnection:\n",
    "    def __init__(self, uri, user, password):\n",
    "        self.driver = GraphDatabase.driver(uri, auth=(user, password))\n",
    "\n",
    "    def calculate_page_rank(self):\n",
    "        query = \"\"\"\n",
    "        CALL gds.pageRank.write('myGraphTest', {\n",
    "            writeProperty: 'pageRank'\n",
    "        })\n",
    "        YIELD nodePropertiesWritten;\n",
    "        \"\"\"\n",
    "        with self.driver.session() as session:\n",
    "            result = session.run(query)\n",
    "            return result.single()[0] \n",
    "\n",
    "\n",
    "class MyOpenAIWrapper:\n",
    "    def __init__(self, api_key):\n",
    "        self.api_key = api_key\n",
    "\n",
    "    def generate(self, prompt, model=\"gpt-3.5-turbo\"):\n",
    "        import openai\n",
    "        openai.api_key = self.api_key\n",
    "        try:\n",
    "            response = openai.ChatCompletion.create(\n",
    "                model=model,\n",
    "                messages=[{\"role\": \"system\", \"content\": \"You are a helpful assistant analyzing transactions for potential fraud.\"},\n",
    "                          {\"role\": \"user\", \"content\": prompt}]\n",
    "            )\n",
    "            return response.choices[0].message['content']\n",
    "        except Exception as e:\n",
    "            print(f\"Error: {e}\")\n",
    "            return \"An error occurred while generating the response.\"\n",
    "\n",
    "# Initialize Neo4j and OpenAI connections\n",
    "neo4j_conn = Neo4jConnection(\"bolt://localhost:7687\", \"neo4j\", \"\")\n",
    "openai_wrapper = MyOpenAIWrapper(api_key=\"\")\n",
    "\n",
    "# Calculate PageRank to identify key individuals\n",
    "page_rank_message = neo4j_conn.calculate_page_rank()\n",
    "print(page_rank_message)\n",
    "\n",
    "# Example of analyzing the role of key individuals identified by PageRank\n",
    "prompt = \"Examine the role of individuals with high PageRank scores in the context of potential money laundering activities.\"\n",
    "response = openai_wrapper.generate(prompt)\n",
    "print(f\"LLM Analysis: {response}\")\n"
   ]
  }
 ],
 "metadata": {
  "kernelspec": {
   "display_name": "myenv",
   "language": "python",
   "name": "python3"
  },
  "language_info": {
   "codemirror_mode": {
    "name": "ipython",
    "version": 3
   },
   "file_extension": ".py",
   "mimetype": "text/x-python",
   "name": "python",
   "nbconvert_exporter": "python",
   "pygments_lexer": "ipython3",
   "version": "3.8.18"
  }
 },
 "nbformat": 4,
 "nbformat_minor": 2
}
