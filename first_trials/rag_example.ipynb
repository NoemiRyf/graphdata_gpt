{
 "cells": [
  {
   "cell_type": "markdown",
   "metadata": {
    "slideshow": {
     "slide_type": "subslide"
    },
    "tags": []
   },
   "source": [
    "\n",
    "# RAG Example for Analyzing Financial Transactions"
   ]
  },
  {
   "cell_type": "markdown",
   "metadata": {},
   "source": [
    "## Imports"
   ]
  },
  {
   "cell_type": "code",
   "execution_count": 2,
   "metadata": {},
   "outputs": [
    {
     "name": "stderr",
     "output_type": "stream",
     "text": [
      "c:\\Users\\Noemi\\anaconda3\\envs\\myenv\\lib\\site-packages\\tqdm\\auto.py:21: TqdmWarning: IProgress not found. Please update jupyter and ipywidgets. See https://ipywidgets.readthedocs.io/en/stable/user_install.html\n",
      "  from .autonotebook import tqdm as notebook_tqdm\n"
     ]
    }
   ],
   "source": [
    "import pandas as pd\n",
    "from transformers import RagTokenizer, RagRetriever, RagTokenForGeneration, pipeline, AutoTokenizer, AutoModel, AutoModelForQuestionAnswering\n",
    "import torch\n",
    "from sklearn.metrics.pairwise import cosine_similarity\n",
    "import numpy as np\n",
    "from sklearn.cluster import KMeans\n",
    "import spacy\n",
    "import openai"
   ]
  },
  {
   "cell_type": "markdown",
   "metadata": {},
   "source": [
    "## Step 1: Loading Documents"
   ]
  },
  {
   "cell_type": "code",
   "execution_count": 45,
   "metadata": {},
   "outputs": [
    {
     "name": "stdout",
     "output_type": "stream",
     "text": [
      "   step      type    amount     nameOrig  oldbalanceOrg  newbalanceOrig  \\\n",
      "0     1   PAYMENT   9839.64  C1231006815       170136.0       160296.36   \n",
      "1     1   PAYMENT   1864.28  C1666544295        21249.0        19384.72   \n",
      "2     1  TRANSFER    181.00  C1305486145          181.0            0.00   \n",
      "3     1  CASH_OUT    181.00   C840083671          181.0            0.00   \n",
      "4     1   PAYMENT  11668.14  C2048537720        41554.0        29885.86   \n",
      "\n",
      "      nameDest  oldbalanceDest  newbalanceDest  isFraud  isFlaggedFraud  \n",
      "0  M1979787155             0.0             0.0        0               0  \n",
      "1  M2044282225             0.0             0.0        0               0  \n",
      "2   C553264065             0.0             0.0        1               0  \n",
      "3    C38997010         21182.0             0.0        1               0  \n",
      "4  M1230701703             0.0             0.0        0               0  \n"
     ]
    }
   ],
   "source": [
    "# Load the dataset containing transaction information\n",
    "fraud_file = 'data/fraud.csv'\n",
    "df = pd.read_csv(fraud_file)\n",
    "print(df.head())"
   ]
  },
  {
   "cell_type": "markdown",
   "metadata": {},
   "source": [
    "## Step 2: Data Preparation and Splitting Documents"
   ]
  },
  {
   "cell_type": "code",
   "execution_count": 81,
   "metadata": {},
   "outputs": [
    {
     "name": "stdout",
     "output_type": "stream",
     "text": [
      "Description 1: Transaction type TRANSFER, amount 244814.12, origin balance 244814.12 to 0.0, destination balance 0.0 to 0.0, fraud: yes\n",
      "Description 2: Transaction type CASH_IN, amount 253129.93, origin balance 1328499.49 to 1581629.42, destination balance 2713220.48 to 2460090.55, fraud: no\n",
      "Description 3: Transaction type TRANSFER, amount 56510.5, origin balance 56510.5 to 0.0, destination balance 0.0 to 0.0, fraud: yes\n",
      "Description 4: Transaction type CASH_OUT, amount 195227.91, origin balance 0.0 to 0.0, destination balance 1256726.0 to 1451953.91, fraud: no\n",
      "Description 5: Transaction type CASH_OUT, amount 5721871.91, origin balance 5721871.91 to 0.0, destination balance 146633.42 to 5868505.33, fraud: yes\n",
      "Description 6: Transaction type CASH_OUT, amount 285382.07, origin balance 285382.07 to 0.0, destination balance 0.0 to 285382.07, fraud: yes\n",
      "Description 7: Transaction type PAYMENT, amount 521.37, origin balance 0.0 to 0.0, destination balance 0.0 to 0.0, fraud: no\n",
      "Description 8: Transaction type TRANSFER, amount 10000000.0, origin balance 10390763.24 to 390763.24, destination balance 0.0 to 0.0, fraud: yes\n",
      "Description 9: Transaction type CASH_IN, amount 53230.73, origin balance 895081.62 to 948312.35, destination balance 7015146.49 to 6961915.77, fraud: no\n",
      "Description 10: Transaction type CASH_OUT, amount 73328.47, origin balance 73328.47 to 0.0, destination balance 121670.8 to 194999.27, fraud: yes\n",
      "Description 11: Transaction type TRANSFER, amount 21580.37, origin balance 21580.37 to 0.0, destination balance 0.0 to 0.0, fraud: yes\n",
      "Description 12: Transaction type CASH_OUT, amount 183806.32, origin balance 19391.0 to 0.0, destination balance 382572.19 to 566378.51, fraud: no\n",
      "Description 13: Transaction type PAYMENT, amount 1716.05, origin balance 5769.17 to 4053.13, destination balance 0.0 to 0.0, fraud: no\n",
      "Description 14: Transaction type CASH_OUT, amount 1576531.53, origin balance 1576531.53 to 0.0, destination balance 0.0 to 1576531.53, fraud: yes\n",
      "Description 15: Transaction type TRANSFER, amount 488243.65, origin balance 488243.65 to 0.0, destination balance 0.0 to 0.0, fraud: yes\n",
      "Description 16: Transaction type TRANSFER, amount 353783.72, origin balance 0.0 to 0.0, destination balance 1639764.23 to 1993547.95, fraud: no\n",
      "Description 17: Transaction type PAYMENT, amount 24768.57, origin balance 21573.0 to 0.0, destination balance 0.0 to 0.0, fraud: no\n",
      "Description 18: Transaction type CASH_IN, amount 266999.97, origin balance 7411271.89 to 7678271.86, destination balance 386812.88 to 119812.91, fraud: no\n",
      "Description 19: Transaction type CASH_OUT, amount 124718.38, origin balance 0.0 to 0.0, destination balance 2482527.99 to 2607246.37, fraud: no\n",
      "Description 20: Transaction type CASH_OUT, amount 39108.07, origin balance 0.0 to 0.0, destination balance 2484800.84 to 2523908.91, fraud: no\n",
      "Description 21: Transaction type TRANSFER, amount 177680.54, origin balance 177680.54 to 0.0, destination balance 0.0 to 0.0, fraud: yes\n",
      "Description 22: Transaction type CASH_OUT, amount 1390332.39, origin balance 1390332.39 to 0.0, destination balance 0.0 to 1390332.39, fraud: yes\n",
      "Description 23: Transaction type PAYMENT, amount 3478.18, origin balance 19853.0 to 16374.82, destination balance 0.0 to 0.0, fraud: no\n",
      "Description 24: Transaction type PAYMENT, amount 1464.13, origin balance 60483.0 to 59018.87, destination balance 0.0 to 0.0, fraud: no\n",
      "Description 25: Transaction type CASH_OUT, amount 29174.8, origin balance 29174.8 to 0.0, destination balance 4093.57 to 33268.36, fraud: yes\n"
     ]
    }
   ],
   "source": [
    "# Split the DataFrame into fraud and non-fraud transactions\n",
    "fraud_df = df[df['isFraud'] == 1]\n",
    "non_fraud_df = df[df['isFraud'] == 0]\n",
    "\n",
    "# Determine the number of samples to take\n",
    "n_samples = 25  \n",
    "fraud_samples = min(len(fraud_df), n_samples // 2)  # Take up to half from the fraud group\n",
    "non_fraud_samples = n_samples - fraud_samples  \n",
    "\n",
    "# Take random samples from both groups\n",
    "fraud_sample_df = fraud_df.sample(n=fraud_samples, random_state=42)\n",
    "non_fraud_sample_df = non_fraud_df.sample(n=non_fraud_samples, random_state=42)\n",
    "\n",
    "# Concatenate the samples\n",
    "sample_df = pd.concat([fraud_sample_df, non_fraud_sample_df])\n",
    "\n",
    "# Shuffle the merged data to randomize the order\n",
    "sample_df = sample_df.sample(frac=1, random_state=42).reset_index(drop=True)\n",
    "\n",
    "# Generate descriptions for this random sample\n",
    "descriptions = sample_df.apply(lambda row: f\"Transaction type {row['type']}, amount {row['amount']}, \\\n",
    "origin balance {row['oldbalanceOrg']} to {row['newbalanceOrig']}, \\\n",
    "destination balance {row['oldbalanceDest']} to {row['newbalanceDest']}, \\\n",
    "fraud: {'yes' if row['isFraud'] == 1 else 'no'}\", axis=1).tolist()\n",
    "\n",
    "# Print the generated descriptions\n",
    "for i, description in enumerate(descriptions, start=1):\n",
    "    print(f\"Description {i}: {description}\")\n"
   ]
  },
  {
   "cell_type": "code",
   "execution_count": 86,
   "metadata": {},
   "outputs": [
    {
     "name": "stdout",
     "output_type": "stream",
     "text": [
      "Sorted Description 1: Transaction type TRANSFER, amount 10000000.0, origin balance 10390763.24 to 390763.24, destination balance 0.0 to 0.0, fraud: yes\n",
      "Sorted Description 2: Transaction type CASH_OUT, amount 5721871.91, origin balance 5721871.91 to 0.0, destination balance 146633.42 to 5868505.33, fraud: yes\n",
      "Sorted Description 3: Transaction type CASH_OUT, amount 1576531.53, origin balance 1576531.53 to 0.0, destination balance 0.0 to 1576531.53, fraud: yes\n",
      "Sorted Description 4: Transaction type CASH_OUT, amount 1390332.39, origin balance 1390332.39 to 0.0, destination balance 0.0 to 1390332.39, fraud: yes\n",
      "Sorted Description 5: Transaction type TRANSFER, amount 488243.65, origin balance 488243.65 to 0.0, destination balance 0.0 to 0.0, fraud: yes\n",
      "Sorted Description 6: Transaction type CASH_OUT, amount 285382.07, origin balance 285382.07 to 0.0, destination balance 0.0 to 285382.07, fraud: yes\n",
      "Sorted Description 7: Transaction type TRANSFER, amount 244814.12, origin balance 244814.12 to 0.0, destination balance 0.0 to 0.0, fraud: yes\n",
      "Sorted Description 8: Transaction type TRANSFER, amount 177680.54, origin balance 177680.54 to 0.0, destination balance 0.0 to 0.0, fraud: yes\n",
      "Sorted Description 9: Transaction type CASH_OUT, amount 73328.47, origin balance 73328.47 to 0.0, destination balance 121670.8 to 194999.27, fraud: yes\n",
      "Sorted Description 10: Transaction type TRANSFER, amount 56510.5, origin balance 56510.5 to 0.0, destination balance 0.0 to 0.0, fraud: yes\n",
      "Sorted Description 11: Transaction type CASH_OUT, amount 29174.8, origin balance 29174.8 to 0.0, destination balance 4093.57 to 33268.36, fraud: yes\n",
      "Sorted Description 12: Transaction type TRANSFER, amount 21580.37, origin balance 21580.37 to 0.0, destination balance 0.0 to 0.0, fraud: yes\n",
      "Sorted Description 13: Transaction type TRANSFER, amount 353783.72, origin balance 0.0 to 0.0, destination balance 1639764.23 to 1993547.95, fraud: no\n",
      "Sorted Description 14: Transaction type CASH_IN, amount 266999.97, origin balance 7411271.89 to 7678271.86, destination balance 386812.88 to 119812.91, fraud: no\n",
      "Sorted Description 15: Transaction type CASH_IN, amount 253129.93, origin balance 1328499.49 to 1581629.42, destination balance 2713220.48 to 2460090.55, fraud: no\n",
      "Sorted Description 16: Transaction type CASH_OUT, amount 195227.91, origin balance 0.0 to 0.0, destination balance 1256726.0 to 1451953.91, fraud: no\n",
      "Sorted Description 17: Transaction type CASH_OUT, amount 183806.32, origin balance 19391.0 to 0.0, destination balance 382572.19 to 566378.51, fraud: no\n",
      "Sorted Description 18: Transaction type CASH_OUT, amount 124718.38, origin balance 0.0 to 0.0, destination balance 2482527.99 to 2607246.37, fraud: no\n",
      "Sorted Description 19: Transaction type CASH_IN, amount 53230.73, origin balance 895081.62 to 948312.35, destination balance 7015146.49 to 6961915.77, fraud: no\n",
      "Sorted Description 20: Transaction type CASH_OUT, amount 39108.07, origin balance 0.0 to 0.0, destination balance 2484800.84 to 2523908.91, fraud: no\n",
      "Sorted Description 21: Transaction type PAYMENT, amount 24768.57, origin balance 21573.0 to 0.0, destination balance 0.0 to 0.0, fraud: no\n",
      "Sorted Description 22: Transaction type PAYMENT, amount 3478.18, origin balance 19853.0 to 16374.82, destination balance 0.0 to 0.0, fraud: no\n",
      "Sorted Description 23: Transaction type PAYMENT, amount 1716.05, origin balance 5769.17 to 4053.13, destination balance 0.0 to 0.0, fraud: no\n",
      "Sorted Description 24: Transaction type PAYMENT, amount 1464.13, origin balance 60483.0 to 59018.87, destination balance 0.0 to 0.0, fraud: no\n",
      "Sorted Description 25: Transaction type PAYMENT, amount 521.37, origin balance 0.0 to 0.0, destination balance 0.0 to 0.0, fraud: no\n"
     ]
    }
   ],
   "source": [
    "# Sort the sample DataFrame first by 'isFraud' and then by 'amount'\n",
    "# 'ascending=False' means sorting in descending order\n",
    "sorted_sample_df = sample_df.sort_values(by=['isFraud', 'amount'], ascending=[False, False]).reset_index(drop=True)\n",
    "\n",
    "# Generate descriptions for the sorted sample\n",
    "sorted_descriptions = sorted_sample_df.apply(lambda row: f\"Transaction type {row['type']}, amount {row['amount']}, \\\n",
    "origin balance {row['oldbalanceOrg']} to {row['newbalanceOrig']}, \\\n",
    "destination balance {row['oldbalanceDest']} to {row['newbalanceDest']}, \\\n",
    "fraud: {'yes' if row['isFraud'] == 1 else 'no'}\", axis=1).tolist()\n",
    "\n",
    "# Print the generated descriptions for the sorted sample\n",
    "for i, description in enumerate(sorted_descriptions, start=1):\n",
    "    print(f\"Sorted Description {i}: {description}\")\n"
   ]
  },
  {
   "cell_type": "markdown",
   "metadata": {},
   "source": [
    "## Step 3: Storage"
   ]
  },
  {
   "cell_type": "markdown",
   "metadata": {},
   "source": [
    "## Step 4: Retrieval"
   ]
  },
  {
   "cell_type": "code",
   "execution_count": 82,
   "metadata": {},
   "outputs": [],
   "source": [
    "# Initialize tokenizer and model for embedding generation\n",
    "tokenizer = AutoTokenizer.from_pretrained(\"distilbert-base-uncased\")\n",
    "model = AutoModel.from_pretrained(\"distilbert-base-uncased\")"
   ]
  },
  {
   "cell_type": "code",
   "execution_count": 126,
   "metadata": {},
   "outputs": [
    {
     "name": "stdout",
     "output_type": "stream",
     "text": [
      "Shape of the embeddings: (25, 768)\n"
     ]
    }
   ],
   "source": [
    "def get_embedding(text, tokenizer, model):\n",
    "    # Encode the input text and return tensor\n",
    "    inputs = tokenizer(text, return_tensors=\"pt\", padding=True, truncation=True, max_length=512)\n",
    "    # Ensure the model is in evaluation mode\n",
    "    model.eval()\n",
    "    # Pass the tensor to the model and get the output\n",
    "    with torch.no_grad():  # Ensure no gradients are computed\n",
    "        outputs = model(**inputs)\n",
    "    # Compute the mean across all tokens, resulting in a single vector per description\n",
    "    return outputs.last_hidden_state.mean(dim=1).squeeze().numpy()\n",
    "\n",
    "# Convert each description to an embedding\n",
    "description_embeddings = np.array([get_embedding(desc, tokenizer, model) for desc in descriptions])\n",
    "\n",
    "# Now check the shape again\n",
    "print(\"Shape of the embeddings:\", description_embeddings.shape)\n"
   ]
  },
  {
   "cell_type": "code",
   "execution_count": 131,
   "metadata": {},
   "outputs": [
    {
     "name": "stdout",
     "output_type": "stream",
     "text": [
      "Retrieved transactions based on the query:\n",
      "Transaction type PAYMENT, amount 3478.18, origin balance 19853.0 to 16374.82, destination balance 0.0 to 0.0, fraud: no\n",
      "Transaction type PAYMENT, amount 24768.57, origin balance 21573.0 to 0.0, destination balance 0.0 to 0.0, fraud: no\n",
      "Transaction type PAYMENT, amount 1716.05, origin balance 5769.17 to 4053.13, destination balance 0.0 to 0.0, fraud: no\n",
      "Transaction type TRANSFER, amount 21580.37, origin balance 21580.37 to 0.0, destination balance 0.0 to 0.0, fraud: yes\n",
      "Transaction type TRANSFER, amount 177680.54, origin balance 177680.54 to 0.0, destination balance 0.0 to 0.0, fraud: yes\n"
     ]
    }
   ],
   "source": [
    "search_query = \"High amount transactions flagged as fraud: yes\"\n",
    "\n",
    "# Generate embedding for the search query\n",
    "query_vector = get_embedding(search_query, tokenizer, model)\n",
    "\n",
    "# Calculate similarity scores\n",
    "similarities = cosine_similarity(query_vector.reshape(1, -1), description_embeddings)\n",
    "\n",
    "# Retrieve top 5 similar transactions\n",
    "top_n = 5\n",
    "retrieved_indices = similarities.argsort()[0][-top_n:][::-1]\n",
    "retrieved_descriptions = [descriptions[i] for i in retrieved_indices]\n",
    "\n",
    "print(\"Retrieved transactions based on the query:\")\n",
    "for desc in retrieved_descriptions:\n",
    "    print(desc)"
   ]
  },
  {
   "cell_type": "markdown",
   "metadata": {},
   "source": [
    "## Step 5: Generating Answer"
   ]
  },
  {
   "cell_type": "code",
   "execution_count": 128,
   "metadata": {},
   "outputs": [
    {
     "name": "stdout",
     "output_type": "stream",
     "text": [
      "\n",
      "Answer to the question:\n",
      "Transaction type PAYMENT, amount 1716.05, origin balance 5769.17 to 4053.13, destination balance 0.0 to 0.0, fraud: no\n"
     ]
    }
   ],
   "source": [
    "def generate_answer(question, descriptions, embeddings, tokenizer, model):\n",
    "    question_embedding = get_embedding(question, tokenizer, model).reshape(1, -1)  # Reshape to 2D\n",
    "    scores = cosine_similarity(question_embedding, embeddings)  \n",
    "    most_relevant_idx = scores.argsort()[0][-1]\n",
    "    return descriptions[most_relevant_idx]\n",
    "\n",
    "question = \"Which transaction marked as fraud has the highest amount?\"\n",
    "# Ensure description_embeddings is a 2D array for the similarity comparison\n",
    "description_embeddings = np.vstack(description_embeddings)\n",
    "answer = generate_answer(question, descriptions, description_embeddings, tokenizer, model)\n",
    "print(\"\\nAnswer to the question:\")\n",
    "print(answer)"
   ]
  },
  {
   "cell_type": "code",
   "execution_count": 132,
   "metadata": {},
   "outputs": [
    {
     "name": "stdout",
     "output_type": "stream",
     "text": [
      "Question: high amount transactions\n",
      "Most relevant high amount fraud transaction: Transaction type TRANSFER, amount 21580.37, origin balance 21580.37 to 0.0, destination balance 0.0 to 0.0, fraud: yes\n"
     ]
    }
   ],
   "source": [
    "# Filter descriptions to include only those flagged as fraud\n",
    "fraud_descriptions = [desc for desc in descriptions if \"fraud: yes\" in desc]\n",
    "fraud_description_embeddings = np.array([get_embedding(desc, tokenizer, model) for desc in fraud_descriptions])\n",
    "\n",
    "# Semantic search among fraud descriptions for high amount transactions\n",
    "high_amount_query = \"high amount transactions\"\n",
    "high_amount_vector = get_embedding(high_amount_query, tokenizer, model).reshape(1, -1)\n",
    "\n",
    "# Calculate similarity only among fraud descriptions\n",
    "high_amount_similarities = cosine_similarity(high_amount_vector, fraud_description_embeddings)\n",
    "\n",
    "# Find the most similar fraud transaction\n",
    "most_similar_fraud_index = high_amount_similarities.argmax()\n",
    "most_similar_fraud_description = fraud_descriptions[most_similar_fraud_index]\n",
    "\n",
    "print(f\"Question: {high_amount_query}\")\n",
    "print(f\"Most relevant high amount fraud transaction: {most_similar_fraud_description}\")"
   ]
  },
  {
   "cell_type": "code",
   "execution_count": 133,
   "metadata": {},
   "outputs": [
    {
     "name": "stdout",
     "output_type": "stream",
     "text": [
      "Question: Which transaction marked as fraud has the highest amount?\n",
      "Most relevant high amount fraud transaction: Transaction type CASH_OUT, amount 10000000.0, origin balance 10000000.0 to 0.0, destination balance 0.0 to 10000000.0, fraud: yes\n"
     ]
    }
   ],
   "source": [
    "sorted_df = df[df['isFraud'] == 1].sort_values(by='amount', ascending=False)\n",
    "\n",
    "highest_fraud_transaction = sorted_df.iloc[0]\n",
    "\n",
    "highest_fraud_description = f\"Transaction type {highest_fraud_transaction['type']}, amount {highest_fraud_transaction['amount']}, \\\n",
    "origin balance {highest_fraud_transaction['oldbalanceOrg']} to {highest_fraud_transaction['newbalanceOrig']}, \\\n",
    "destination balance {highest_fraud_transaction['oldbalanceDest']} to {highest_fraud_transaction['newbalanceDest']}, \\\n",
    "fraud: {'yes' if highest_fraud_transaction['isFraud'] == 1 else 'no'}\"\n",
    "\n",
    "print(f\"Question: Which transaction marked as fraud has the highest amount?\")\n",
    "print(f\"Most relevant high amount fraud transaction: {highest_fraud_description}\")\n"
   ]
  },
  {
   "cell_type": "markdown",
   "metadata": {},
   "source": [
    "## Clustering Transaction"
   ]
  },
  {
   "cell_type": "code",
   "execution_count": 108,
   "metadata": {},
   "outputs": [
    {
     "name": "stdout",
     "output_type": "stream",
     "text": [
      "Transaktionen im Cluster 0:\n",
      "Description 13: Transaction type PAYMENT, amount 1716.05, origin balance 5769.17 to 4053.13, destination balance 0.0 to 0.0, fraud: no\n",
      "Description 16: Transaction type TRANSFER, amount 353783.72, origin balance 0.0 to 0.0, destination balance 1639764.23 to 1993547.95, fraud: no\n",
      "Description 17: Transaction type PAYMENT, amount 24768.57, origin balance 21573.0 to 0.0, destination balance 0.0 to 0.0, fraud: no\n",
      "Description 23: Transaction type PAYMENT, amount 3478.18, origin balance 19853.0 to 16374.82, destination balance 0.0 to 0.0, fraud: no\n",
      "Description 24: Transaction type PAYMENT, amount 1464.13, origin balance 60483.0 to 59018.87, destination balance 0.0 to 0.0, fraud: no\n",
      "\n",
      "\n",
      "Transaktionen im Cluster 1:\n",
      "Description 2: Transaction type CASH_IN, amount 253129.93, origin balance 1328499.49 to 1581629.42, destination balance 2713220.48 to 2460090.55, fraud: no\n",
      "Description 5: Transaction type CASH_OUT, amount 5721871.91, origin balance 5721871.91 to 0.0, destination balance 146633.42 to 5868505.33, fraud: yes\n",
      "Description 9: Transaction type CASH_IN, amount 53230.73, origin balance 895081.62 to 948312.35, destination balance 7015146.49 to 6961915.77, fraud: no\n",
      "Description 18: Transaction type CASH_IN, amount 266999.97, origin balance 7411271.89 to 7678271.86, destination balance 386812.88 to 119812.91, fraud: no\n",
      "\n",
      "\n",
      "Transaktionen im Cluster 2:\n",
      "Description 1: Transaction type TRANSFER, amount 244814.12, origin balance 244814.12 to 0.0, destination balance 0.0 to 0.0, fraud: yes\n",
      "Description 3: Transaction type TRANSFER, amount 56510.5, origin balance 56510.5 to 0.0, destination balance 0.0 to 0.0, fraud: yes\n",
      "Description 7: Transaction type PAYMENT, amount 521.37, origin balance 0.0 to 0.0, destination balance 0.0 to 0.0, fraud: no\n",
      "Description 11: Transaction type TRANSFER, amount 21580.37, origin balance 21580.37 to 0.0, destination balance 0.0 to 0.0, fraud: yes\n",
      "Description 15: Transaction type TRANSFER, amount 488243.65, origin balance 488243.65 to 0.0, destination balance 0.0 to 0.0, fraud: yes\n",
      "Description 21: Transaction type TRANSFER, amount 177680.54, origin balance 177680.54 to 0.0, destination balance 0.0 to 0.0, fraud: yes\n",
      "\n",
      "\n",
      "Transaktionen im Cluster 3:\n",
      "Description 4: Transaction type CASH_OUT, amount 195227.91, origin balance 0.0 to 0.0, destination balance 1256726.0 to 1451953.91, fraud: no\n",
      "Description 8: Transaction type TRANSFER, amount 10000000.0, origin balance 10390763.24 to 390763.24, destination balance 0.0 to 0.0, fraud: yes\n",
      "Description 10: Transaction type CASH_OUT, amount 73328.47, origin balance 73328.47 to 0.0, destination balance 121670.8 to 194999.27, fraud: yes\n",
      "Description 12: Transaction type CASH_OUT, amount 183806.32, origin balance 19391.0 to 0.0, destination balance 382572.19 to 566378.51, fraud: no\n",
      "Description 19: Transaction type CASH_OUT, amount 124718.38, origin balance 0.0 to 0.0, destination balance 2482527.99 to 2607246.37, fraud: no\n",
      "Description 20: Transaction type CASH_OUT, amount 39108.07, origin balance 0.0 to 0.0, destination balance 2484800.84 to 2523908.91, fraud: no\n",
      "Description 25: Transaction type CASH_OUT, amount 29174.8, origin balance 29174.8 to 0.0, destination balance 4093.57 to 33268.36, fraud: yes\n",
      "\n",
      "\n",
      "Transaktionen im Cluster 4:\n",
      "Description 6: Transaction type CASH_OUT, amount 285382.07, origin balance 285382.07 to 0.0, destination balance 0.0 to 285382.07, fraud: yes\n",
      "Description 14: Transaction type CASH_OUT, amount 1576531.53, origin balance 1576531.53 to 0.0, destination balance 0.0 to 1576531.53, fraud: yes\n",
      "Description 22: Transaction type CASH_OUT, amount 1390332.39, origin balance 1390332.39 to 0.0, destination balance 0.0 to 1390332.39, fraud: yes\n",
      "\n",
      "\n"
     ]
    },
    {
     "name": "stderr",
     "output_type": "stream",
     "text": [
      "c:\\Users\\Noemi\\anaconda3\\envs\\myenv\\lib\\site-packages\\sklearn\\cluster\\_kmeans.py:1416: FutureWarning: The default value of `n_init` will change from 10 to 'auto' in 1.4. Set the value of `n_init` explicitly to suppress the warning\n",
      "  super()._check_params_vs_input(X, default_n_init=10)\n",
      "c:\\Users\\Noemi\\anaconda3\\envs\\myenv\\lib\\site-packages\\sklearn\\cluster\\_kmeans.py:1440: UserWarning: KMeans is known to have a memory leak on Windows with MKL, when there are less chunks than available threads. You can avoid it by setting the environment variable OMP_NUM_THREADS=1.\n",
      "  warnings.warn(\n"
     ]
    }
   ],
   "source": [
    "num_clusters = 5  # Die Anzahl der Cluster kann basierend auf Ihrer Datenanalyse angepasst werden\n",
    "clustering_model = KMeans(n_clusters=num_clusters, random_state=42)\n",
    "cluster_labels = clustering_model.fit_predict(description_embeddings)\n",
    "\n",
    "# Anzeigen von Transaktionen in jedem Cluster\n",
    "for i in range(num_clusters):\n",
    "    print(f\"Transaktionen im Cluster {i}:\")\n",
    "    for j, label in enumerate(cluster_labels):\n",
    "        if label == i:\n",
    "            print(f\"Description {j+1}: {descriptions[j]}\")\n",
    "    print(\"\\n\")\n"
   ]
  },
  {
   "cell_type": "markdown",
   "metadata": {},
   "source": [
    "## Finding the most relevant description to a question"
   ]
  },
  {
   "cell_type": "code",
   "execution_count": 118,
   "metadata": {},
   "outputs": [
    {
     "name": "stdout",
     "output_type": "stream",
     "text": [
      "Question: High transfer transactions that are flagged as fraud: yes\n",
      "Most relevant description: Transaction type TRANSFER, amount 21580.37, origin balance 21580.37 to 0.0, destination balance 0.0 to 0.0, fraud: yes\n"
     ]
    }
   ],
   "source": [
    "similarities = cosine_similarity(query_vector.reshape(1, -1), description_embeddings)\n",
    "\n",
    "# Find the description with the highest similarity\n",
    "most_similar_index = similarities.argmax()\n",
    "most_similar_description = descriptions[most_similar_index]\n",
    "\n",
    "print(f\"Question: {search_query}\")\n",
    "print(f\"Most relevant description: {most_similar_description}\")"
   ]
  },
  {
   "cell_type": "code",
   "execution_count": 124,
   "metadata": {},
   "outputs": [
    {
     "name": "stdout",
     "output_type": "stream",
     "text": [
      "Top similar transactions to the search query:\n",
      "Transaction type TRANSFER, amount 21580.37, origin balance 21580.37 to 0.0, destination balance 0.0 to 0.0, fraud: yes\n",
      "Transaction type TRANSFER, amount 488243.65, origin balance 488243.65 to 0.0, destination balance 0.0 to 0.0, fraud: yes\n",
      "Transaction type PAYMENT, amount 3478.18, origin balance 19853.0 to 16374.82, destination balance 0.0 to 0.0, fraud: no\n",
      "Transaction type TRANSFER, amount 244814.12, origin balance 244814.12 to 0.0, destination balance 0.0 to 0.0, fraud: yes\n",
      "Transaction type PAYMENT, amount 24768.57, origin balance 21573.0 to 0.0, destination balance 0.0 to 0.0, fraud: no\n"
     ]
    }
   ],
   "source": [
    "# Prepare the question vector\n",
    "search_query = \"High transfer transactions that are flagged as fraud: yes\"\n",
    "query_vector = get_embedding(search_query, tokenizer, model)  # Use the previously defined get_embedding function\n",
    "\n",
    "# This calculates the cosine similarity between the question vector and all description embeddings\n",
    "similarities = cosine_similarity(query_vector.reshape(1, -1), description_embeddings)\n",
    "\n",
    "## Find Top N similar transactions\n",
    "top_n = 5\n",
    "top_n_indices = similarities.argsort()[0][-top_n:][::-1]\n",
    "\n",
    "print(\"Top similar transactions to the search query:\")\n",
    "for index in top_n_indices:\n",
    "    print(descriptions[index])"
   ]
  },
  {
   "cell_type": "code",
   "execution_count": 125,
   "metadata": {},
   "outputs": [
    {
     "name": "stdout",
     "output_type": "stream",
     "text": [
      "Top similar transactions to the search query, filtered by fraud:\n",
      "Transaction type TRANSFER, amount 21580.37, origin balance 21580.37 to 0.0, destination balance 0.0 to 0.0, fraud: yes\n",
      "Transaction type TRANSFER, amount 488243.65, origin balance 488243.65 to 0.0, destination balance 0.0 to 0.0, fraud: yes\n",
      "Transaction type TRANSFER, amount 244814.12, origin balance 244814.12 to 0.0, destination balance 0.0 to 0.0, fraud: yes\n"
     ]
    }
   ],
   "source": [
    "filtered_indices = [index for index in top_n_indices if \"fraud: yes\" in descriptions[index]]\n",
    "\n",
    "print(\"Top similar transactions to the search query, filtered by fraud:\")\n",
    "for index in filtered_indices:\n",
    "    print(descriptions[index])"
   ]
  },
  {
   "cell_type": "markdown",
   "metadata": {},
   "source": [
    "## Using a Question-Answering Model"
   ]
  },
  {
   "cell_type": "code",
   "execution_count": 120,
   "metadata": {},
   "outputs": [
    {
     "name": "stderr",
     "output_type": "stream",
     "text": [
      "No model was supplied, defaulted to distilbert/distilbert-base-cased-distilled-squad and revision 626af31 (https://huggingface.co/distilbert/distilbert-base-cased-distilled-squad).\n",
      "Using a pipeline without specifying a model name and revision in production is not recommended.\n"
     ]
    },
    {
     "name": "stdout",
     "output_type": "stream",
     "text": [
      "Question: How high is the amount of the first transaction?\n",
      "Answer: 244814.12\n"
     ]
    }
   ],
   "source": [
    "# GPT-3 model\n",
    "question_answering_pipeline = pipeline(\"question-answering\")\n",
    "\n",
    "def generate_answer(description, question):\n",
    "    context = description  \n",
    "    return question_answering_pipeline(context=context, question=question)\n",
    "\n",
    "description = descriptions[0]  \n",
    "question = \"How high is the amount of the first transaction?\"\n",
    "answer = generate_answer(description, question)\n",
    "print(f\"Question: {question}\\nAnswer: {answer['answer']}\")"
   ]
  }
 ],
 "metadata": {
  "kernelspec": {
   "display_name": "Python 3",
   "language": "python",
   "name": "python3"
  },
  "language_info": {
   "codemirror_mode": {
    "name": "ipython",
    "version": 3
   },
   "file_extension": ".py",
   "mimetype": "text/x-python",
   "name": "python",
   "nbconvert_exporter": "python",
   "pygments_lexer": "ipython3",
   "version": "3.8.18"
  }
 },
 "nbformat": 4,
 "nbformat_minor": 2
}
